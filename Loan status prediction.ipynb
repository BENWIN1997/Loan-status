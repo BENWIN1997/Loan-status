{
 "cells": [
  {
   "cell_type": "markdown",
   "id": "a984abb8",
   "metadata": {},
   "source": [
    "## Team- 7\n",
    "\n",
    "Rounak kumar -D22007 ,\n",
    "Benwin P.A - D22032"
   ]
  },
  {
   "cell_type": "code",
   "execution_count": 1,
   "id": "5608347f",
   "metadata": {},
   "outputs": [],
   "source": [
    "#import libraries\n",
    "import numpy as np\n",
    "import pandas as pd\n",
    "import warnings\n",
    "warnings.filterwarnings(\"ignore\")"
   ]
  },
  {
   "cell_type": "code",
   "execution_count": 2,
   "id": "d7f6368c",
   "metadata": {
    "scrolled": true
   },
   "outputs": [],
   "source": [
    "df_nolabels = pd.read_csv(\"Loans - Public Test Set (No Labels).csv\")\n",
    "df_labels = pd.read_csv(\"Loans - Public Test Set (IDs and Labels).csv\")"
   ]
  },
  {
   "cell_type": "code",
   "execution_count": 3,
   "id": "a66c393f",
   "metadata": {},
   "outputs": [],
   "source": [
    "df_nolabels.drop(columns=['Loan Status'],inplace = True)"
   ]
  },
  {
   "cell_type": "code",
   "execution_count": 4,
   "id": "312e9e46",
   "metadata": {},
   "outputs": [],
   "source": [
    "test_data = pd.merge(left=df_labels,right=df_nolabels,how='inner',on='Loan ID')"
   ]
  },
  {
   "cell_type": "code",
   "execution_count": 5,
   "id": "6d2e2a59",
   "metadata": {},
   "outputs": [
    {
     "data": {
      "text/html": [
       "<div>\n",
       "<style scoped>\n",
       "    .dataframe tbody tr th:only-of-type {\n",
       "        vertical-align: middle;\n",
       "    }\n",
       "\n",
       "    .dataframe tbody tr th {\n",
       "        vertical-align: top;\n",
       "    }\n",
       "\n",
       "    .dataframe thead th {\n",
       "        text-align: right;\n",
       "    }\n",
       "</style>\n",
       "<table border=\"1\" class=\"dataframe\">\n",
       "  <thead>\n",
       "    <tr style=\"text-align: right;\">\n",
       "      <th></th>\n",
       "      <th>Loan ID</th>\n",
       "      <th>Loan Status</th>\n",
       "      <th>Customer ID</th>\n",
       "      <th>Current Loan Amount</th>\n",
       "      <th>Term</th>\n",
       "      <th>Credit Score</th>\n",
       "      <th>Years in current job</th>\n",
       "      <th>Home Ownership</th>\n",
       "      <th>Annual Income</th>\n",
       "      <th>Purpose</th>\n",
       "      <th>Monthly Debt</th>\n",
       "      <th>Years of Credit History</th>\n",
       "      <th>Months since last delinquent</th>\n",
       "      <th>Number of Open Accounts</th>\n",
       "      <th>Number of Credit Problems</th>\n",
       "      <th>Current Credit Balance</th>\n",
       "      <th>Maximum Open Credit</th>\n",
       "      <th>Bankruptcies</th>\n",
       "      <th>Tax Liens</th>\n",
       "    </tr>\n",
       "  </thead>\n",
       "  <tbody>\n",
       "    <tr>\n",
       "      <th>0</th>\n",
       "      <td>03e0da0c-fac3-42f8-a396-ed5a226466e0</td>\n",
       "      <td>Fully Paid</td>\n",
       "      <td>16ecb7be-c90f-4bdb-b168-da705d9b1fa7</td>\n",
       "      <td>23023</td>\n",
       "      <td>Long Term</td>\n",
       "      <td>597</td>\n",
       "      <td>10+ years</td>\n",
       "      <td>Home Mortgage</td>\n",
       "      <td>72230</td>\n",
       "      <td>Debt Consolidation</td>\n",
       "      <td>$613.96</td>\n",
       "      <td>14.0</td>\n",
       "      <td>NaN</td>\n",
       "      <td>11</td>\n",
       "      <td>0</td>\n",
       "      <td>23188</td>\n",
       "      <td>NaN</td>\n",
       "      <td>NaN</td>\n",
       "      <td>NaN</td>\n",
       "    </tr>\n",
       "    <tr>\n",
       "      <th>1</th>\n",
       "      <td>01825d5d-429a-4de6-b3d4-8618364d2df2</td>\n",
       "      <td>Charged Off</td>\n",
       "      <td>9e0609db-23c1-43b0-9326-0e67ca1e8f1d</td>\n",
       "      <td>8126</td>\n",
       "      <td>Short Term</td>\n",
       "      <td>696</td>\n",
       "      <td>2 years</td>\n",
       "      <td>Rent</td>\n",
       "      <td>55869</td>\n",
       "      <td>Debt Consolidation</td>\n",
       "      <td>$665.78</td>\n",
       "      <td>10.9</td>\n",
       "      <td>NaN</td>\n",
       "      <td>14</td>\n",
       "      <td>0</td>\n",
       "      <td>6135</td>\n",
       "      <td>NaN</td>\n",
       "      <td>NaN</td>\n",
       "      <td>NaN</td>\n",
       "    </tr>\n",
       "    <tr>\n",
       "      <th>2</th>\n",
       "      <td>c159a79a-8d2b-447c-92a9-052b5466d6cd</td>\n",
       "      <td>Fully Paid</td>\n",
       "      <td>c54e404f-1e94-45a2-9473-972e2f3c378b</td>\n",
       "      <td>5042</td>\n",
       "      <td>Short Term</td>\n",
       "      <td>745</td>\n",
       "      <td>10+ years</td>\n",
       "      <td>Home Mortgage</td>\n",
       "      <td>40332</td>\n",
       "      <td>Debt Consolidation</td>\n",
       "      <td>873.86</td>\n",
       "      <td>16.4</td>\n",
       "      <td>11.0</td>\n",
       "      <td>6</td>\n",
       "      <td>0</td>\n",
       "      <td>6698</td>\n",
       "      <td>17958.0</td>\n",
       "      <td>0.0</td>\n",
       "      <td>0.0</td>\n",
       "    </tr>\n",
       "    <tr>\n",
       "      <th>3</th>\n",
       "      <td>c1428058-2dc6-4a88-b64c-b6034dfb4f8f</td>\n",
       "      <td>Charged Off</td>\n",
       "      <td>37923e4e-df73-4093-a4b8-c2dfcbd0c8d8</td>\n",
       "      <td>14139</td>\n",
       "      <td>Long Term</td>\n",
       "      <td>677</td>\n",
       "      <td>&lt; 1 year</td>\n",
       "      <td>Rent</td>\n",
       "      <td>70693</td>\n",
       "      <td>Debt Consolidation</td>\n",
       "      <td>482.48</td>\n",
       "      <td>19.5</td>\n",
       "      <td>33.0</td>\n",
       "      <td>8</td>\n",
       "      <td>0</td>\n",
       "      <td>5928</td>\n",
       "      <td>7273.0</td>\n",
       "      <td>0.0</td>\n",
       "      <td>0.0</td>\n",
       "    </tr>\n",
       "    <tr>\n",
       "      <th>4</th>\n",
       "      <td>20344186-79bd-487a-b7c4-f3c7b57fe3e8</td>\n",
       "      <td>Charged Off</td>\n",
       "      <td>d5dc29d5-06f9-452e-9d55-c1d543dca5dd</td>\n",
       "      <td>15191</td>\n",
       "      <td>Long Term</td>\n",
       "      <td>716</td>\n",
       "      <td>10+ years</td>\n",
       "      <td>Home Mortgage</td>\n",
       "      <td>38442</td>\n",
       "      <td>Debt Consolidation</td>\n",
       "      <td>611.87</td>\n",
       "      <td>17.8</td>\n",
       "      <td>0.0</td>\n",
       "      <td>4</td>\n",
       "      <td>0</td>\n",
       "      <td>10714</td>\n",
       "      <td>11243.0</td>\n",
       "      <td>0.0</td>\n",
       "      <td>0.0</td>\n",
       "    </tr>\n",
       "  </tbody>\n",
       "</table>\n",
       "</div>"
      ],
      "text/plain": [
       "                                Loan ID  Loan Status  \\\n",
       "0  03e0da0c-fac3-42f8-a396-ed5a226466e0   Fully Paid   \n",
       "1  01825d5d-429a-4de6-b3d4-8618364d2df2  Charged Off   \n",
       "2  c159a79a-8d2b-447c-92a9-052b5466d6cd   Fully Paid   \n",
       "3  c1428058-2dc6-4a88-b64c-b6034dfb4f8f  Charged Off   \n",
       "4  20344186-79bd-487a-b7c4-f3c7b57fe3e8  Charged Off   \n",
       "\n",
       "                            Customer ID  Current Loan Amount        Term  \\\n",
       "0  16ecb7be-c90f-4bdb-b168-da705d9b1fa7                23023   Long Term   \n",
       "1  9e0609db-23c1-43b0-9326-0e67ca1e8f1d                 8126  Short Term   \n",
       "2  c54e404f-1e94-45a2-9473-972e2f3c378b                 5042  Short Term   \n",
       "3  37923e4e-df73-4093-a4b8-c2dfcbd0c8d8                14139   Long Term   \n",
       "4  d5dc29d5-06f9-452e-9d55-c1d543dca5dd                15191   Long Term   \n",
       "\n",
       "   Credit Score Years in current job Home Ownership  Annual Income  \\\n",
       "0           597            10+ years  Home Mortgage          72230   \n",
       "1           696              2 years           Rent          55869   \n",
       "2           745            10+ years  Home Mortgage          40332   \n",
       "3           677             < 1 year           Rent          70693   \n",
       "4           716            10+ years  Home Mortgage          38442   \n",
       "\n",
       "              Purpose Monthly Debt  Years of Credit History  \\\n",
       "0  Debt Consolidation     $613.96                      14.0   \n",
       "1  Debt Consolidation     $665.78                      10.9   \n",
       "2  Debt Consolidation       873.86                     16.4   \n",
       "3  Debt Consolidation       482.48                     19.5   \n",
       "4  Debt Consolidation       611.87                     17.8   \n",
       "\n",
       "   Months since last delinquent  Number of Open Accounts  \\\n",
       "0                           NaN                       11   \n",
       "1                           NaN                       14   \n",
       "2                          11.0                        6   \n",
       "3                          33.0                        8   \n",
       "4                           0.0                        4   \n",
       "\n",
       "   Number of Credit Problems  Current Credit Balance Maximum Open Credit  \\\n",
       "0                          0                   23188                 NaN   \n",
       "1                          0                    6135                 NaN   \n",
       "2                          0                    6698             17958.0   \n",
       "3                          0                    5928              7273.0   \n",
       "4                          0                   10714             11243.0   \n",
       "\n",
       "   Bankruptcies  Tax Liens  \n",
       "0           NaN        NaN  \n",
       "1           NaN        NaN  \n",
       "2           0.0        0.0  \n",
       "3           0.0        0.0  \n",
       "4           0.0        0.0  "
      ]
     },
     "execution_count": 5,
     "metadata": {},
     "output_type": "execute_result"
    }
   ],
   "source": [
    "test_data.head(5)"
   ]
  },
  {
   "cell_type": "code",
   "execution_count": 6,
   "id": "6b501937",
   "metadata": {},
   "outputs": [
    {
     "data": {
      "text/plain": [
       "Index(['Loan ID', 'Loan Status', 'Customer ID', 'Current Loan Amount', 'Term',\n",
       "       'Credit Score', 'Years in current job', 'Home Ownership',\n",
       "       'Annual Income', 'Purpose', 'Monthly Debt', 'Years of Credit History',\n",
       "       'Months since last delinquent', 'Number of Open Accounts',\n",
       "       'Number of Credit Problems', 'Current Credit Balance',\n",
       "       'Maximum Open Credit', 'Bankruptcies', 'Tax Liens'],\n",
       "      dtype='object')"
      ]
     },
     "execution_count": 6,
     "metadata": {},
     "output_type": "execute_result"
    }
   ],
   "source": [
    "test_data.columns"
   ]
  },
  {
   "cell_type": "code",
   "execution_count": 7,
   "id": "b4a147d0",
   "metadata": {},
   "outputs": [
    {
     "name": "stdout",
     "output_type": "stream",
     "text": [
      "<class 'pandas.core.frame.DataFrame'>\n",
      "Int64Index: 44454 entries, 0 to 44453\n",
      "Data columns (total 19 columns):\n",
      " #   Column                        Non-Null Count  Dtype  \n",
      "---  ------                        --------------  -----  \n",
      " 0   Loan ID                       44454 non-null  object \n",
      " 1   Loan Status                   44454 non-null  object \n",
      " 2   Customer ID                   44454 non-null  object \n",
      " 3   Current Loan Amount           44454 non-null  int64  \n",
      " 4   Term                          44454 non-null  object \n",
      " 5   Credit Score                  44454 non-null  int64  \n",
      " 6   Years in current job          42604 non-null  object \n",
      " 7   Home Ownership                44454 non-null  object \n",
      " 8   Annual Income                 44454 non-null  int64  \n",
      " 9   Purpose                       44454 non-null  object \n",
      " 10  Monthly Debt                  44454 non-null  object \n",
      " 11  Years of Credit History       44454 non-null  float64\n",
      " 12  Months since last delinquent  44452 non-null  float64\n",
      " 13  Number of Open Accounts       44454 non-null  int64  \n",
      " 14  Number of Credit Problems     44454 non-null  int64  \n",
      " 15  Current Credit Balance        44454 non-null  int64  \n",
      " 16  Maximum Open Credit           44452 non-null  object \n",
      " 17  Bankruptcies                  44452 non-null  float64\n",
      " 18  Tax Liens                     44452 non-null  float64\n",
      "dtypes: float64(4), int64(6), object(9)\n",
      "memory usage: 6.8+ MB\n"
     ]
    }
   ],
   "source": [
    "test_data.info()"
   ]
  },
  {
   "cell_type": "code",
   "execution_count": 8,
   "id": "21e1a499",
   "metadata": {
    "scrolled": true
   },
   "outputs": [
    {
     "data": {
      "text/html": [
       "<div>\n",
       "<style scoped>\n",
       "    .dataframe tbody tr th:only-of-type {\n",
       "        vertical-align: middle;\n",
       "    }\n",
       "\n",
       "    .dataframe tbody tr th {\n",
       "        vertical-align: top;\n",
       "    }\n",
       "\n",
       "    .dataframe thead th {\n",
       "        text-align: right;\n",
       "    }\n",
       "</style>\n",
       "<table border=\"1\" class=\"dataframe\">\n",
       "  <thead>\n",
       "    <tr style=\"text-align: right;\">\n",
       "      <th></th>\n",
       "      <th>sum_total</th>\n",
       "      <th>percent</th>\n",
       "    </tr>\n",
       "  </thead>\n",
       "  <tbody>\n",
       "    <tr>\n",
       "      <th>Years in current job</th>\n",
       "      <td>1850</td>\n",
       "      <td>4.161605</td>\n",
       "    </tr>\n",
       "    <tr>\n",
       "      <th>Tax Liens</th>\n",
       "      <td>2</td>\n",
       "      <td>0.004499</td>\n",
       "    </tr>\n",
       "    <tr>\n",
       "      <th>Bankruptcies</th>\n",
       "      <td>2</td>\n",
       "      <td>0.004499</td>\n",
       "    </tr>\n",
       "    <tr>\n",
       "      <th>Maximum Open Credit</th>\n",
       "      <td>2</td>\n",
       "      <td>0.004499</td>\n",
       "    </tr>\n",
       "    <tr>\n",
       "      <th>Months since last delinquent</th>\n",
       "      <td>2</td>\n",
       "      <td>0.004499</td>\n",
       "    </tr>\n",
       "    <tr>\n",
       "      <th>Monthly Debt</th>\n",
       "      <td>0</td>\n",
       "      <td>0.000000</td>\n",
       "    </tr>\n",
       "    <tr>\n",
       "      <th>Current Credit Balance</th>\n",
       "      <td>0</td>\n",
       "      <td>0.000000</td>\n",
       "    </tr>\n",
       "    <tr>\n",
       "      <th>Number of Credit Problems</th>\n",
       "      <td>0</td>\n",
       "      <td>0.000000</td>\n",
       "    </tr>\n",
       "    <tr>\n",
       "      <th>Number of Open Accounts</th>\n",
       "      <td>0</td>\n",
       "      <td>0.000000</td>\n",
       "    </tr>\n",
       "    <tr>\n",
       "      <th>Years of Credit History</th>\n",
       "      <td>0</td>\n",
       "      <td>0.000000</td>\n",
       "    </tr>\n",
       "    <tr>\n",
       "      <th>Loan ID</th>\n",
       "      <td>0</td>\n",
       "      <td>0.000000</td>\n",
       "    </tr>\n",
       "    <tr>\n",
       "      <th>Loan Status</th>\n",
       "      <td>0</td>\n",
       "      <td>0.000000</td>\n",
       "    </tr>\n",
       "    <tr>\n",
       "      <th>Annual Income</th>\n",
       "      <td>0</td>\n",
       "      <td>0.000000</td>\n",
       "    </tr>\n",
       "    <tr>\n",
       "      <th>Home Ownership</th>\n",
       "      <td>0</td>\n",
       "      <td>0.000000</td>\n",
       "    </tr>\n",
       "    <tr>\n",
       "      <th>Credit Score</th>\n",
       "      <td>0</td>\n",
       "      <td>0.000000</td>\n",
       "    </tr>\n",
       "    <tr>\n",
       "      <th>Term</th>\n",
       "      <td>0</td>\n",
       "      <td>0.000000</td>\n",
       "    </tr>\n",
       "    <tr>\n",
       "      <th>Current Loan Amount</th>\n",
       "      <td>0</td>\n",
       "      <td>0.000000</td>\n",
       "    </tr>\n",
       "    <tr>\n",
       "      <th>Customer ID</th>\n",
       "      <td>0</td>\n",
       "      <td>0.000000</td>\n",
       "    </tr>\n",
       "    <tr>\n",
       "      <th>Purpose</th>\n",
       "      <td>0</td>\n",
       "      <td>0.000000</td>\n",
       "    </tr>\n",
       "  </tbody>\n",
       "</table>\n",
       "</div>"
      ],
      "text/plain": [
       "                              sum_total   percent\n",
       "Years in current job               1850  4.161605\n",
       "Tax Liens                             2  0.004499\n",
       "Bankruptcies                          2  0.004499\n",
       "Maximum Open Credit                   2  0.004499\n",
       "Months since last delinquent          2  0.004499\n",
       "Monthly Debt                          0  0.000000\n",
       "Current Credit Balance                0  0.000000\n",
       "Number of Credit Problems             0  0.000000\n",
       "Number of Open Accounts               0  0.000000\n",
       "Years of Credit History               0  0.000000\n",
       "Loan ID                               0  0.000000\n",
       "Loan Status                           0  0.000000\n",
       "Annual Income                         0  0.000000\n",
       "Home Ownership                        0  0.000000\n",
       "Credit Score                          0  0.000000\n",
       "Term                                  0  0.000000\n",
       "Current Loan Amount                   0  0.000000\n",
       "Customer ID                           0  0.000000\n",
       "Purpose                               0  0.000000"
      ]
     },
     "execution_count": 8,
     "metadata": {},
     "output_type": "execute_result"
    }
   ],
   "source": [
    "#sum of missing values\n",
    "sum_total = test_data.isnull().sum().sort_values(ascending=False)\n",
    "\n",
    "# percentage of missing values\n",
    "percentage = ((test_data.isnull().sum() / len(test_data))*100).sort_values(ascending=False)\n",
    "\n",
    "\n",
    "missing_values_df = pd.concat([sum_total,percentage],axis=1,keys = ['sum_total','percent'])\n",
    "missing_values_df.head(20)"
   ]
  },
  {
   "cell_type": "markdown",
   "id": "652d0ca6",
   "metadata": {},
   "source": [
    "### As per the result there are missing values columns (Months since last delinquent,Credit Score,Annual Income,Years in current job,Bankruptcies,Tax Liens\t)."
   ]
  },
  {
   "cell_type": "markdown",
   "id": "62066312",
   "metadata": {},
   "source": [
    "## Input values for missing value columns and data preprocessing "
   ]
  },
  {
   "cell_type": "code",
   "execution_count": 9,
   "id": "45ef024a",
   "metadata": {},
   "outputs": [
    {
     "data": {
      "text/plain": [
       "0.0     43640\n",
       "1.0       582\n",
       "2.0       136\n",
       "3.0        52\n",
       "4.0        18\n",
       "5.0        11\n",
       "6.0         7\n",
       "7.0         2\n",
       "9.0         1\n",
       "10.0        1\n",
       "8.0         1\n",
       "13.0        1\n",
       "Name: Tax Liens, dtype: int64"
      ]
     },
     "execution_count": 9,
     "metadata": {},
     "output_type": "execute_result"
    }
   ],
   "source": [
    "# checking the values for the column 'Tax liens'\n",
    "test_data['Tax Liens'].value_counts()"
   ]
  },
  {
   "cell_type": "markdown",
   "id": "c12a99c9",
   "metadata": {},
   "source": [
    "### Determining the conditional mode for ''Tax Liens'' column"
   ]
  },
  {
   "cell_type": "code",
   "execution_count": 10,
   "id": "6df28815",
   "metadata": {},
   "outputs": [
    {
     "name": "stdout",
     "output_type": "stream",
     "text": [
      "0    0.0\n",
      "Name: Tax Liens, dtype: float64\n",
      "0    0.0\n",
      "Name: Tax Liens, dtype: float64\n"
     ]
    }
   ],
   "source": [
    "print(test_data[test_data['Loan Status']=='Fully Paid']['Tax Liens'].mode())\n",
    "print(test_data[test_data['Loan Status']=='Charged Off']['Tax Liens'].mode())"
   ]
  },
  {
   "cell_type": "code",
   "execution_count": 11,
   "id": "18d78ce5",
   "metadata": {},
   "outputs": [],
   "source": [
    "# Filling the missing values with the mode since it's a categorical column\n",
    "test_data['Tax Liens'].fillna(value=0.0,inplace=True)"
   ]
  },
  {
   "cell_type": "code",
   "execution_count": 12,
   "id": "d12caa53",
   "metadata": {
    "scrolled": true
   },
   "outputs": [
    {
     "data": {
      "text/plain": [
       "0"
      ]
     },
     "execution_count": 12,
     "metadata": {},
     "output_type": "execute_result"
    }
   ],
   "source": [
    "test_data['Tax Liens'].isnull().sum()"
   ]
  },
  {
   "cell_type": "markdown",
   "id": "7136e2f1",
   "metadata": {},
   "source": [
    "###  Determining the conditional mode for ''Bankruptcies'' column"
   ]
  },
  {
   "cell_type": "code",
   "execution_count": 13,
   "id": "2d7cd7ce",
   "metadata": {},
   "outputs": [
    {
     "data": {
      "text/plain": [
       "0.0    39809\n",
       "1.0     4446\n",
       "2.0      158\n",
       "3.0       29\n",
       "4.0        4\n",
       "5.0        3\n",
       "7.0        2\n",
       "6.0        1\n",
       "Name: Bankruptcies, dtype: int64"
      ]
     },
     "execution_count": 13,
     "metadata": {},
     "output_type": "execute_result"
    }
   ],
   "source": [
    "test_data['Bankruptcies'].value_counts()"
   ]
  },
  {
   "cell_type": "code",
   "execution_count": 14,
   "id": "7bbbf846",
   "metadata": {},
   "outputs": [
    {
     "name": "stdout",
     "output_type": "stream",
     "text": [
      "0    0.0\n",
      "Name: Bankruptcies, dtype: float64\n",
      "0    0.0\n",
      "Name: Bankruptcies, dtype: float64\n"
     ]
    }
   ],
   "source": [
    "# Determining the conditional mode for Bankruptcies column\n",
    "print(test_data[test_data['Loan Status']=='Fully Paid']['Bankruptcies'].mode())\n",
    "print(test_data[test_data['Loan Status']=='Charged Off']['Bankruptcies'].mode())"
   ]
  },
  {
   "cell_type": "code",
   "execution_count": 15,
   "id": "716b5f61",
   "metadata": {},
   "outputs": [],
   "source": [
    "# Filling the missing values with the mode since it's a categorical column\n",
    "test_data['Bankruptcies'].fillna(value=0.0,inplace=True)"
   ]
  },
  {
   "cell_type": "code",
   "execution_count": 16,
   "id": "398674b7",
   "metadata": {},
   "outputs": [
    {
     "data": {
      "text/plain": [
       "0"
      ]
     },
     "execution_count": 16,
     "metadata": {},
     "output_type": "execute_result"
    }
   ],
   "source": [
    "test_data['Bankruptcies'].isnull().sum()"
   ]
  },
  {
   "cell_type": "markdown",
   "id": "9375161f",
   "metadata": {},
   "source": [
    "###  Determining the conditional mode for ''Years in current job'' column"
   ]
  },
  {
   "cell_type": "code",
   "execution_count": 17,
   "id": "5e6c249f",
   "metadata": {},
   "outputs": [
    {
     "data": {
      "text/plain": [
       "10+ years    13806\n",
       "2 years       4175\n",
       "< 1 year      3654\n",
       "3 years       3485\n",
       "5 years       3039\n",
       "1 year        3029\n",
       "4 years       2717\n",
       "6 years       2502\n",
       "7 years       2322\n",
       "8 years       2147\n",
       "9 years       1728\n",
       "Name: Years in current job, dtype: int64"
      ]
     },
     "execution_count": 17,
     "metadata": {},
     "output_type": "execute_result"
    }
   ],
   "source": [
    "test_data['Years in current job'].value_counts()"
   ]
  },
  {
   "cell_type": "code",
   "execution_count": 18,
   "id": "24ae3703",
   "metadata": {},
   "outputs": [
    {
     "name": "stdout",
     "output_type": "stream",
     "text": [
      "0    10+ years\n",
      "Name: Years in current job, dtype: object\n",
      "0    10+ years\n",
      "Name: Years in current job, dtype: object\n"
     ]
    }
   ],
   "source": [
    "print(test_data[test_data['Loan Status']=='Fully Paid']['Years in current job'].mode())\n",
    "print(test_data[test_data['Loan Status']=='Charged Off']['Years in current job'].mode())"
   ]
  },
  {
   "cell_type": "code",
   "execution_count": 19,
   "id": "f3d9996e",
   "metadata": {},
   "outputs": [],
   "source": [
    "# Filling the missing values with the mode since it's a categorical column\n",
    "test_data['Years in current job'].fillna(value='10+ years',inplace=True)"
   ]
  },
  {
   "cell_type": "code",
   "execution_count": 20,
   "id": "0fe51ce1",
   "metadata": {},
   "outputs": [
    {
     "data": {
      "text/plain": [
       "0"
      ]
     },
     "execution_count": 20,
     "metadata": {},
     "output_type": "execute_result"
    }
   ],
   "source": [
    "test_data['Years in current job'].isnull().sum()"
   ]
  },
  {
   "cell_type": "markdown",
   "id": "70808d19",
   "metadata": {},
   "source": [
    "### for Home Ownership  "
   ]
  },
  {
   "cell_type": "code",
   "execution_count": 21,
   "id": "6ce5feac",
   "metadata": {},
   "outputs": [],
   "source": [
    "# Replacing every instance of 'HaveMortgage' with 'Home Mortgage'\n",
    "#test_data['Home Ownership'] = test_data['Home Ownership'].apply(lambda x : 'Home Mortgage' if x == 'HaveMortgage' else x)"
   ]
  },
  {
   "cell_type": "code",
   "execution_count": 22,
   "id": "39feb2f0",
   "metadata": {},
   "outputs": [
    {
     "data": {
      "text/plain": [
       "Home Mortgage    21742\n",
       "Rent             18820\n",
       "Own Home          3892\n",
       "Name: Home Ownership, dtype: int64"
      ]
     },
     "execution_count": 22,
     "metadata": {},
     "output_type": "execute_result"
    }
   ],
   "source": [
    "test_data['Home Ownership'].value_counts()"
   ]
  },
  {
   "cell_type": "code",
   "execution_count": 23,
   "id": "02c93d7a",
   "metadata": {},
   "outputs": [],
   "source": [
    "#Can also be done by using loan.replace({'HaveMortgage' : 'Home Mortgage'})"
   ]
  },
  {
   "cell_type": "code",
   "execution_count": 24,
   "id": "24759408",
   "metadata": {},
   "outputs": [
    {
     "data": {
      "text/plain": [
       "array(['Home Mortgage', 'Rent', 'Own Home'], dtype=object)"
      ]
     },
     "execution_count": 24,
     "metadata": {},
     "output_type": "execute_result"
    }
   ],
   "source": [
    "test_data['Home Ownership'].unique()"
   ]
  },
  {
   "cell_type": "markdown",
   "id": "fc35327d",
   "metadata": {},
   "source": [
    "### Credit score"
   ]
  },
  {
   "cell_type": "code",
   "execution_count": 25,
   "id": "46c6600d",
   "metadata": {},
   "outputs": [],
   "source": [
    "# A value between 0 and 800 indicating the riskiness of the borrowers credit history.\n",
    "# as per the data dictionary\n",
    "\n",
    "#df['Credit Score'] = df['Credit Score'].apply(lambda x : x/10 if x > 800 else x)"
   ]
  },
  {
   "cell_type": "markdown",
   "id": "3204c8c4",
   "metadata": {},
   "source": [
    "### checking all other columns"
   ]
  },
  {
   "cell_type": "markdown",
   "id": "debeb3bc",
   "metadata": {},
   "source": [
    "### Current Loan Amount"
   ]
  },
  {
   "cell_type": "code",
   "execution_count": 28,
   "id": "2aa96e80",
   "metadata": {},
   "outputs": [
    {
     "data": {
      "text/plain": [
       "10056    16\n",
       "8154     16\n",
       "9825     16\n",
       "10189    16\n",
       "9788     15\n",
       "         ..\n",
       "12799     1\n",
       "27230     1\n",
       "5545      1\n",
       "15670     1\n",
       "27618     1\n",
       "Name: Current Loan Amount, Length: 17946, dtype: int64"
      ]
     },
     "execution_count": 28,
     "metadata": {},
     "output_type": "execute_result"
    }
   ],
   "source": [
    "test_data['Current Loan Amount'].value_counts()"
   ]
  },
  {
   "cell_type": "code",
   "execution_count": 30,
   "id": "431133a3",
   "metadata": {},
   "outputs": [
    {
     "data": {
      "text/plain": [
       "Short Term    33506\n",
       "Long Term     10948\n",
       "Name: Term, dtype: int64"
      ]
     },
     "execution_count": 30,
     "metadata": {},
     "output_type": "execute_result"
    }
   ],
   "source": [
    "test_data['Term'].value_counts()"
   ]
  },
  {
   "cell_type": "code",
   "execution_count": 31,
   "id": "8b67c391",
   "metadata": {
    "scrolled": true
   },
   "outputs": [
    {
     "data": {
      "text/plain": [
       "740    1349\n",
       "741    1348\n",
       "746    1345\n",
       "747    1344\n",
       "745    1265\n",
       "       ... \n",
       "590       3\n",
       "588       3\n",
       "587       3\n",
       "592       3\n",
       "586       1\n",
       "Name: Credit Score, Length: 167, dtype: int64"
      ]
     },
     "execution_count": 31,
     "metadata": {},
     "output_type": "execute_result"
    }
   ],
   "source": [
    "test_data['Credit Score'].value_counts()"
   ]
  },
  {
   "cell_type": "code",
   "execution_count": 32,
   "id": "ec2c16b8",
   "metadata": {},
   "outputs": [
    {
     "data": {
      "text/plain": [
       "10+ years    15656\n",
       "2 years       4175\n",
       "< 1 year      3654\n",
       "3 years       3485\n",
       "5 years       3039\n",
       "1 year        3029\n",
       "4 years       2717\n",
       "6 years       2502\n",
       "7 years       2322\n",
       "8 years       2147\n",
       "9 years       1728\n",
       "Name: Years in current job, dtype: int64"
      ]
     },
     "execution_count": 32,
     "metadata": {},
     "output_type": "execute_result"
    }
   ],
   "source": [
    "test_data['Years in current job'].value_counts()"
   ]
  },
  {
   "cell_type": "code",
   "execution_count": 33,
   "id": "576a772a",
   "metadata": {},
   "outputs": [
    {
     "data": {
      "text/plain": [
       "Home Mortgage    21742\n",
       "Rent             18820\n",
       "Own Home          3892\n",
       "Name: Home Ownership, dtype: int64"
      ]
     },
     "execution_count": 33,
     "metadata": {},
     "output_type": "execute_result"
    }
   ],
   "source": [
    "test_data['Home Ownership'].value_counts()"
   ]
  },
  {
   "cell_type": "code",
   "execution_count": 34,
   "id": "5a5df782",
   "metadata": {},
   "outputs": [
    {
     "data": {
      "text/plain": [
       "48970     12\n",
       "50135     11\n",
       "50820      9\n",
       "60570      9\n",
       "80024      9\n",
       "          ..\n",
       "36286      1\n",
       "50077      1\n",
       "35473      1\n",
       "122110     1\n",
       "34514      1\n",
       "Name: Annual Income, Length: 27764, dtype: int64"
      ]
     },
     "execution_count": 34,
     "metadata": {},
     "output_type": "execute_result"
    }
   ],
   "source": [
    "test_data['Annual Income'].value_counts()"
   ]
  },
  {
   "cell_type": "code",
   "execution_count": 35,
   "id": "c03db730",
   "metadata": {},
   "outputs": [
    {
     "data": {
      "text/plain": [
       "Debt Consolidation      35315\n",
       "Home Improvements        2616\n",
       "other                    2442\n",
       "Other                    1395\n",
       "Business Loan             656\n",
       "Buy a Car                 535\n",
       "Medical Bills             496\n",
       "Buy House                 290\n",
       "Take a Trip               234\n",
       "major_purchase            150\n",
       "small_business            141\n",
       "Educational Expenses       52\n",
       "moving                     50\n",
       "vacation                   41\n",
       "wedding                    38\n",
       "renewable_energy            3\n",
       "Name: Purpose, dtype: int64"
      ]
     },
     "execution_count": 35,
     "metadata": {},
     "output_type": "execute_result"
    }
   ],
   "source": [
    "test_data['Purpose'].value_counts()"
   ]
  },
  {
   "cell_type": "code",
   "execution_count": 36,
   "id": "0950f232",
   "metadata": {},
   "outputs": [],
   "source": [
    "#in purpose column there are two same levels such as 'other' and 'Other' - replacing them\n",
    "\n",
    "test_data['Purpose'].replace({'Other':'other'},inplace = True)"
   ]
  },
  {
   "cell_type": "code",
   "execution_count": 37,
   "id": "d697d51d",
   "metadata": {},
   "outputs": [
    {
     "data": {
      "text/plain": [
       "Debt Consolidation      35315\n",
       "other                    3837\n",
       "Home Improvements        2616\n",
       "Business Loan             656\n",
       "Buy a Car                 535\n",
       "Medical Bills             496\n",
       "Buy House                 290\n",
       "Take a Trip               234\n",
       "major_purchase            150\n",
       "small_business            141\n",
       "Educational Expenses       52\n",
       "moving                     50\n",
       "vacation                   41\n",
       "wedding                    38\n",
       "renewable_energy            3\n",
       "Name: Purpose, dtype: int64"
      ]
     },
     "execution_count": 37,
     "metadata": {},
     "output_type": "execute_result"
    }
   ],
   "source": [
    "test_data['Purpose'].value_counts()"
   ]
  },
  {
   "cell_type": "markdown",
   "id": "0c52924c",
   "metadata": {},
   "source": [
    "### Monthly Income"
   ]
  },
  {
   "cell_type": "markdown",
   "id": "960536fc",
   "metadata": {},
   "source": [
    "The monthly debt column had values of object type. But when we tried to convert into 'float' type we encounterd an error due to the presence of '\\\\$' symbol. Hence we are removing every instance containing\n",
    "the '$' symbol with a blank character to enable type conversion into integer."
   ]
  },
  {
   "cell_type": "code",
   "execution_count": 38,
   "id": "66eeae23",
   "metadata": {},
   "outputs": [
    {
     "data": {
      "text/plain": [
       "0        $613.96 \n",
       "1        $665.78 \n",
       "2          873.86\n",
       "3          482.48\n",
       "4          611.87\n",
       "           ...   \n",
       "44449    1,089.12\n",
       "44450      509.07\n",
       "44451    1,224.49\n",
       "44452      242.24\n",
       "44453    1,580.01\n",
       "Name: Monthly Debt, Length: 44454, dtype: object"
      ]
     },
     "execution_count": 38,
     "metadata": {},
     "output_type": "execute_result"
    }
   ],
   "source": [
    "# Note: The datatype of the values are of object type\n",
    "test_data['Monthly Debt']"
   ]
  },
  {
   "cell_type": "code",
   "execution_count": 39,
   "id": "4dc126df",
   "metadata": {},
   "outputs": [],
   "source": [
    "# Type conversion into integer\n",
    "#test_data['Monthly Debt'].replace({'\\$':'',',':'',' ':''},regex=True,inplace=True)"
   ]
  },
  {
   "cell_type": "code",
   "execution_count": 40,
   "id": "6a397481",
   "metadata": {},
   "outputs": [],
   "source": [
    "#test_data[\"Monthly Debt\"] = test_data[\"Monthly Debt\"].replace({\"\\$\":\"\"},regex=True)"
   ]
  },
  {
   "cell_type": "code",
   "execution_count": 41,
   "id": "4334bdcb",
   "metadata": {},
   "outputs": [],
   "source": [
    "test_data[\"Monthly Debt\"] = test_data[\"Monthly Debt\"].replace({\"\\$\":\"\"},regex=True).str.replace(',', '').astype(float)"
   ]
  },
  {
   "cell_type": "code",
   "execution_count": 42,
   "id": "0b61c45a",
   "metadata": {},
   "outputs": [
    {
     "data": {
      "text/plain": [
       "0.00       53\n",
       "426.66      5\n",
       "852.61      5\n",
       "502.73      5\n",
       "782.21      5\n",
       "           ..\n",
       "1845.13     1\n",
       "1745.86     1\n",
       "130.73      1\n",
       "412.06      1\n",
       "1580.01     1\n",
       "Name: Monthly Debt, Length: 39321, dtype: int64"
      ]
     },
     "execution_count": 42,
     "metadata": {},
     "output_type": "execute_result"
    }
   ],
   "source": [
    "test_data['Monthly Debt'].value_counts()"
   ]
  },
  {
   "cell_type": "code",
   "execution_count": 43,
   "id": "4fac67e0",
   "metadata": {},
   "outputs": [
    {
     "data": {
      "text/plain": [
       "0         613.96\n",
       "1         665.78\n",
       "2         873.86\n",
       "3         482.48\n",
       "4         611.87\n",
       "          ...   \n",
       "44449    1089.12\n",
       "44450     509.07\n",
       "44451    1224.49\n",
       "44452     242.24\n",
       "44453    1580.01\n",
       "Name: Monthly Debt, Length: 44454, dtype: float64"
      ]
     },
     "execution_count": 43,
     "metadata": {},
     "output_type": "execute_result"
    }
   ],
   "source": [
    "# Note: The datatype of the values are of float type\n",
    "test_data['Monthly Debt'].astype('float')"
   ]
  },
  {
   "cell_type": "code",
   "execution_count": 44,
   "id": "58548c82",
   "metadata": {},
   "outputs": [
    {
     "data": {
      "text/plain": [
       "16.0    593\n",
       "15.0    587\n",
       "17.0    572\n",
       "14.0    536\n",
       "18.0    516\n",
       "       ... \n",
       "43.1      1\n",
       "54.5      1\n",
       "49.9      1\n",
       "49.6      1\n",
       "54.1      1\n",
       "Name: Years of Credit History, Length: 496, dtype: int64"
      ]
     },
     "execution_count": 44,
     "metadata": {},
     "output_type": "execute_result"
    }
   ],
   "source": [
    "test_data['Years of Credit History'].value_counts()"
   ]
  },
  {
   "cell_type": "code",
   "execution_count": 45,
   "id": "9b7993f4",
   "metadata": {},
   "outputs": [
    {
     "data": {
      "text/plain": [
       "0.0      24525\n",
       "12.0       393\n",
       "10.0       374\n",
       "7.0        373\n",
       "9.0        371\n",
       "         ...  \n",
       "122.0        1\n",
       "85.0         1\n",
       "106.0        1\n",
       "87.0         1\n",
       "90.0         1\n",
       "Name: Months since last delinquent, Length: 104, dtype: int64"
      ]
     },
     "execution_count": 45,
     "metadata": {},
     "output_type": "execute_result"
    }
   ],
   "source": [
    "test_data['Months since last delinquent'].value_counts()"
   ]
  },
  {
   "cell_type": "code",
   "execution_count": 46,
   "id": "1d5d7e7a",
   "metadata": {},
   "outputs": [
    {
     "data": {
      "text/plain": [
       "0        1\n",
       "1        5\n",
       "2      187\n",
       "3      570\n",
       "4     1278\n",
       "5     2128\n",
       "6     2934\n",
       "7     3532\n",
       "8     3969\n",
       "9     4255\n",
       "10    4077\n",
       "11    3710\n",
       "12    3277\n",
       "13    2751\n",
       "14    2319\n",
       "15    1915\n",
       "16    1565\n",
       "17    1296\n",
       "18    1015\n",
       "19     809\n",
       "20     619\n",
       "21     471\n",
       "22     412\n",
       "23     319\n",
       "24     245\n",
       "25     167\n",
       "26     146\n",
       "27     112\n",
       "28      69\n",
       "29      65\n",
       "30      61\n",
       "31      32\n",
       "32      33\n",
       "33      22\n",
       "34      16\n",
       "35      15\n",
       "36      10\n",
       "37       8\n",
       "38      14\n",
       "39       7\n",
       "40       3\n",
       "41       3\n",
       "42       4\n",
       "43       1\n",
       "45       3\n",
       "46       3\n",
       "50       1\n",
       "Name: Number of Open Accounts, dtype: int64"
      ]
     },
     "execution_count": 46,
     "metadata": {},
     "output_type": "execute_result"
    }
   ],
   "source": [
    "test_data['Number of Open Accounts'].value_counts().sort_index(ascending = True)"
   ]
  },
  {
   "cell_type": "code",
   "execution_count": 47,
   "id": "0b1edfa0",
   "metadata": {},
   "outputs": [
    {
     "data": {
      "text/plain": [
       "0     38572\n",
       "1      5173\n",
       "2       488\n",
       "3       129\n",
       "4        41\n",
       "5        27\n",
       "6        14\n",
       "8         4\n",
       "7         3\n",
       "9         1\n",
       "10        1\n",
       "13        1\n",
       "Name: Number of Credit Problems, dtype: int64"
      ]
     },
     "execution_count": 47,
     "metadata": {},
     "output_type": "execute_result"
    }
   ],
   "source": [
    "test_data['Number of Credit Problems'].value_counts(0)"
   ]
  },
  {
   "cell_type": "code",
   "execution_count": 48,
   "id": "f98e2450",
   "metadata": {},
   "outputs": [
    {
     "data": {
      "text/plain": [
       "0        293\n",
       "7507       9\n",
       "4831       9\n",
       "6612       9\n",
       "4943       8\n",
       "        ... \n",
       "31120      1\n",
       "20468      1\n",
       "4750       1\n",
       "13747      1\n",
       "43782      1\n",
       "Name: Current Credit Balance, Length: 24578, dtype: int64"
      ]
     },
     "execution_count": 48,
     "metadata": {},
     "output_type": "execute_result"
    }
   ],
   "source": [
    "test_data['Current Credit Balance'].value_counts()"
   ]
  },
  {
   "cell_type": "code",
   "execution_count": 49,
   "id": "2af33b13",
   "metadata": {},
   "outputs": [
    {
     "data": {
      "text/plain": [
       "0.0        240\n",
       "0          104\n",
       "9512.0       7\n",
       "12168.0      7\n",
       "9817.0       6\n",
       "          ... \n",
       "21593.0      1\n",
       "50311.0      1\n",
       "28968.0      1\n",
       "13128.0      1\n",
       "67462        1\n",
       "Name: Maximum Open Credit, Length: 34984, dtype: int64"
      ]
     },
     "execution_count": 49,
     "metadata": {},
     "output_type": "execute_result"
    }
   ],
   "source": [
    "test_data['Maximum Open Credit'].value_counts()"
   ]
  },
  {
   "cell_type": "code",
   "execution_count": 50,
   "id": "7ecd609e",
   "metadata": {},
   "outputs": [
    {
     "data": {
      "text/plain": [
       "104"
      ]
     },
     "execution_count": 50,
     "metadata": {},
     "output_type": "execute_result"
    }
   ],
   "source": [
    "(test_data['Maximum Open Credit']=='0').sum()"
   ]
  },
  {
   "cell_type": "code",
   "execution_count": 51,
   "id": "39c90f65",
   "metadata": {},
   "outputs": [
    {
     "data": {
      "text/plain": [
       "240"
      ]
     },
     "execution_count": 51,
     "metadata": {},
     "output_type": "execute_result"
    }
   ],
   "source": [
    "(test_data['Maximum Open Credit']==0.0).sum()"
   ]
  },
  {
   "cell_type": "markdown",
   "id": "988c22f7",
   "metadata": {},
   "source": [
    "We observe that there are zeros in the column with string as well as integer datatype. So we're converting all the values of this variable into numeric."
   ]
  },
  {
   "cell_type": "code",
   "execution_count": 52,
   "id": "9b2e55ff",
   "metadata": {},
   "outputs": [],
   "source": [
    "test_data['Maximum Open Credit'] = pd.to_numeric(test_data['Maximum Open Credit'],errors='coerce')"
   ]
  },
  {
   "cell_type": "markdown",
   "id": "c3090f55",
   "metadata": {},
   "source": [
    "#### Can also be done using the following code\n",
    "loan['Maximum Open Credit'].apply(lambda x: float(x) if type(x)==str() else x,inplace=True)"
   ]
  },
  {
   "cell_type": "code",
   "execution_count": 53,
   "id": "6e761da1",
   "metadata": {},
   "outputs": [
    {
     "data": {
      "text/plain": [
       "0.0            344\n",
       "261.0            1\n",
       "293.0            2\n",
       "297.0            2\n",
       "298.0            2\n",
       "              ... \n",
       "10556549.0       1\n",
       "12081044.0       1\n",
       "12379714.0       1\n",
       "15605108.0       1\n",
       "176332155.0      1\n",
       "Name: Maximum Open Credit, Length: 30641, dtype: int64"
      ]
     },
     "execution_count": 53,
     "metadata": {},
     "output_type": "execute_result"
    }
   ],
   "source": [
    "test_data['Maximum Open Credit'].value_counts().sort_index()"
   ]
  },
  {
   "cell_type": "code",
   "execution_count": 54,
   "id": "c55cb44c",
   "metadata": {},
   "outputs": [],
   "source": [
    "# conveting the monthly debt column from object data type to numeric data type\n",
    "test_data['Monthly Debt'] = pd.to_numeric(test_data['Monthly Debt'])"
   ]
  },
  {
   "cell_type": "markdown",
   "id": "e565232d",
   "metadata": {},
   "source": [
    "### Determining the conditional mode for ''Annual Income'' column"
   ]
  },
  {
   "cell_type": "code",
   "execution_count": 55,
   "id": "5afbcc39",
   "metadata": {},
   "outputs": [],
   "source": [
    "#fully_paid = df[df['Loan Status']=='Fully Paid']['Annual Income']\n",
    "#charged_off = df[df['Loan Status']=='Charged Off']['Annual Income']\n",
    "#fully_paid.fillna(value=fully_paid.median(),inplace=True)\n",
    "#charged_off.fillna(value=charged_off.median(),inplace=True)"
   ]
  },
  {
   "cell_type": "code",
   "execution_count": 56,
   "id": "ac5706e1",
   "metadata": {},
   "outputs": [],
   "source": [
    "#df['Annual Income'][df['Loan Status']=='Fully Paid'] = fully_paid\n",
    "\n",
    "#df['Annual Income'][df['Loan Status']=='Charged Off'] = charged_off\n",
    "\n",
    "#df['Annual Income'].isnull().sum()"
   ]
  },
  {
   "cell_type": "markdown",
   "id": "15eee50d",
   "metadata": {},
   "source": [
    "### Determining the conditional mode for ''Credit Score'' column"
   ]
  },
  {
   "cell_type": "code",
   "execution_count": 57,
   "id": "b50baa73",
   "metadata": {},
   "outputs": [],
   "source": [
    "#fully_paid = df[df['Loan Status']=='Fully Paid']['Credit Score']\n",
    "#charged_off = df[df['Loan Status']=='Charged Off']['Credit Score']\n",
    "#fully_paid.fillna(value=fully_paid.median(),inplace=True)\n",
    "#charged_off.fillna(value=charged_off.median(),inplace=True)"
   ]
  },
  {
   "cell_type": "code",
   "execution_count": 58,
   "id": "00f49bf5",
   "metadata": {},
   "outputs": [],
   "source": [
    "#df['Credit Score'][df['Loan Status']=='Fully Paid'] = fully_paid\n",
    "\n",
    "#df['Credit Score'][df['Loan Status']=='Charged Off'] = charged_off\n",
    "\n",
    "#df['Credit Score'].isnull().sum()"
   ]
  },
  {
   "cell_type": "markdown",
   "id": "e241edb4",
   "metadata": {},
   "source": [
    "### Determining the conditional mode for ''Months since last delinquent' column"
   ]
  },
  {
   "cell_type": "code",
   "execution_count": 59,
   "id": "4d7018d0",
   "metadata": {},
   "outputs": [],
   "source": [
    "fully_paid = test_data[test_data['Loan Status']=='Fully Paid']['Months since last delinquent']\n",
    "charged_off = test_data[test_data['Loan Status']=='Charged Off']['Months since last delinquent']\n",
    "fully_paid.fillna(value=fully_paid.median(),inplace=True)\n",
    "charged_off.fillna(value=charged_off.median(),inplace=True)"
   ]
  },
  {
   "cell_type": "code",
   "execution_count": 60,
   "id": "e55e0bfd",
   "metadata": {},
   "outputs": [
    {
     "data": {
      "text/plain": [
       "0"
      ]
     },
     "execution_count": 60,
     "metadata": {},
     "output_type": "execute_result"
    }
   ],
   "source": [
    "test_data['Months since last delinquent'][test_data['Loan Status']=='Fully Paid'] = fully_paid\n",
    "\n",
    "test_data['Months since last delinquent'][test_data['Loan Status']=='Charged Off'] = charged_off\n",
    "\n",
    "test_data['Months since last delinquent'].isnull().sum()\n"
   ]
  },
  {
   "cell_type": "code",
   "execution_count": 61,
   "id": "1e66b470",
   "metadata": {},
   "outputs": [
    {
     "data": {
      "text/plain": [
       "Loan ID                         0.000000\n",
       "Loan Status                     0.000000\n",
       "Customer ID                     0.000000\n",
       "Current Loan Amount             0.000000\n",
       "Term                            0.000000\n",
       "Credit Score                    0.000000\n",
       "Years in current job            0.000000\n",
       "Home Ownership                  0.000000\n",
       "Annual Income                   0.000000\n",
       "Purpose                         0.000000\n",
       "Monthly Debt                    0.000000\n",
       "Years of Credit History         0.000000\n",
       "Months since last delinquent    0.000000\n",
       "Number of Open Accounts         0.000000\n",
       "Number of Credit Problems       0.000000\n",
       "Current Credit Balance          0.000000\n",
       "Maximum Open Credit             0.006749\n",
       "Bankruptcies                    0.000000\n",
       "Tax Liens                       0.000000\n",
       "dtype: float64"
      ]
     },
     "execution_count": 61,
     "metadata": {},
     "output_type": "execute_result"
    }
   ],
   "source": [
    "test_data.isnull().sum() / len(test_data)*100"
   ]
  },
  {
   "cell_type": "code",
   "execution_count": 62,
   "id": "89abaff0",
   "metadata": {},
   "outputs": [
    {
     "data": {
      "text/plain": [
       "3"
      ]
     },
     "execution_count": 62,
     "metadata": {},
     "output_type": "execute_result"
    }
   ],
   "source": [
    "test_data['Maximum Open Credit'].isnull().sum()"
   ]
  },
  {
   "cell_type": "code",
   "execution_count": 63,
   "id": "9c3254c0",
   "metadata": {},
   "outputs": [],
   "source": [
    "#observed 2 missing values \n",
    "test_data.drop(index= list(test_data[test_data['Maximum Open Credit'].isnull()].index),inplace=True)"
   ]
  },
  {
   "cell_type": "code",
   "execution_count": 64,
   "id": "0e19da2a",
   "metadata": {
    "scrolled": true
   },
   "outputs": [
    {
     "data": {
      "text/plain": [
       "0"
      ]
     },
     "execution_count": 64,
     "metadata": {},
     "output_type": "execute_result"
    }
   ],
   "source": [
    "test_data['Maximum Open Credit'].isnull().sum()"
   ]
  },
  {
   "cell_type": "code",
   "execution_count": 71,
   "id": "67b6724c",
   "metadata": {},
   "outputs": [
    {
     "data": {
      "text/plain": [
       "Loan ID                         0.0\n",
       "Loan Status                     0.0\n",
       "Customer ID                     0.0\n",
       "Current Loan Amount             0.0\n",
       "Term                            0.0\n",
       "Credit Score                    0.0\n",
       "Years in current job            0.0\n",
       "Home Ownership                  0.0\n",
       "Annual Income                   0.0\n",
       "Purpose                         0.0\n",
       "Monthly Debt                    0.0\n",
       "Years of Credit History         0.0\n",
       "Months since last delinquent    0.0\n",
       "Number of Open Accounts         0.0\n",
       "Number of Credit Problems       0.0\n",
       "Current Credit Balance          0.0\n",
       "Maximum Open Credit             0.0\n",
       "Bankruptcies                    0.0\n",
       "Tax Liens                       0.0\n",
       "dtype: float64"
      ]
     },
     "execution_count": 71,
     "metadata": {},
     "output_type": "execute_result"
    }
   ],
   "source": [
    "test_data.isnull().sum() / len(test_data)*100"
   ]
  },
  {
   "cell_type": "markdown",
   "id": "e7de8a3d",
   "metadata": {},
   "source": [
    "## Checking for duplicate variables "
   ]
  },
  {
   "cell_type": "code",
   "execution_count": 72,
   "id": "744d39a4",
   "metadata": {},
   "outputs": [
    {
     "data": {
      "text/plain": [
       "0"
      ]
     },
     "execution_count": 72,
     "metadata": {},
     "output_type": "execute_result"
    }
   ],
   "source": [
    "# Determining the number of duplicate observations corresponding to \n",
    "test_data.shape[0]-test_data['Loan ID'].nunique()"
   ]
  },
  {
   "cell_type": "code",
   "execution_count": 73,
   "id": "081bf448",
   "metadata": {},
   "outputs": [],
   "source": [
    "# dropping the duplicate observations with respect to 'LOAN ID' column\n",
    "test_data.drop_duplicates('Loan ID',inplace=True)"
   ]
  },
  {
   "cell_type": "code",
   "execution_count": 74,
   "id": "816197ac",
   "metadata": {},
   "outputs": [
    {
     "data": {
      "text/plain": [
       "0"
      ]
     },
     "execution_count": 74,
     "metadata": {},
     "output_type": "execute_result"
    }
   ],
   "source": [
    "# Determining the number of duplicate observations after drop duplicates  \n",
    "test_data.shape[0]-test_data['Loan ID'].nunique()"
   ]
  },
  {
   "cell_type": "markdown",
   "id": "88397da5",
   "metadata": {},
   "source": [
    "## Using Loan Status as my target variable "
   ]
  },
  {
   "cell_type": "code",
   "execution_count": 75,
   "id": "30d53a02",
   "metadata": {
    "scrolled": true
   },
   "outputs": [
    {
     "data": {
      "text/plain": [
       "1    31867\n",
       "0    12584\n",
       "Name: Loan Status, dtype: int64"
      ]
     },
     "execution_count": 75,
     "metadata": {},
     "output_type": "execute_result"
    }
   ],
   "source": [
    "test_data['Loan Status'].value_counts()"
   ]
  },
  {
   "cell_type": "markdown",
   "id": "46361ede",
   "metadata": {},
   "source": [
    "### it is found that it has imbalanced data,so converting it into balanced data."
   ]
  },
  {
   "cell_type": "code",
   "execution_count": 76,
   "id": "2082b89e",
   "metadata": {},
   "outputs": [],
   "source": [
    "test_data['Loan Status'].replace({'Charged Off':0,'Fully Paid':1},inplace = True)"
   ]
  },
  {
   "cell_type": "code",
   "execution_count": 77,
   "id": "ccd55c13",
   "metadata": {},
   "outputs": [],
   "source": [
    "test_data['Term'].replace({'Short Term':0,'Long Term':1},inplace = True)"
   ]
  },
  {
   "cell_type": "code",
   "execution_count": 78,
   "id": "ac925789",
   "metadata": {
    "scrolled": true
   },
   "outputs": [
    {
     "data": {
      "text/html": [
       "<div>\n",
       "<style scoped>\n",
       "    .dataframe tbody tr th:only-of-type {\n",
       "        vertical-align: middle;\n",
       "    }\n",
       "\n",
       "    .dataframe tbody tr th {\n",
       "        vertical-align: top;\n",
       "    }\n",
       "\n",
       "    .dataframe thead th {\n",
       "        text-align: right;\n",
       "    }\n",
       "</style>\n",
       "<table border=\"1\" class=\"dataframe\">\n",
       "  <thead>\n",
       "    <tr style=\"text-align: right;\">\n",
       "      <th></th>\n",
       "      <th>Loan ID</th>\n",
       "      <th>Loan Status</th>\n",
       "      <th>Customer ID</th>\n",
       "      <th>Current Loan Amount</th>\n",
       "      <th>Term</th>\n",
       "      <th>Credit Score</th>\n",
       "      <th>Years in current job</th>\n",
       "      <th>Home Ownership</th>\n",
       "      <th>Annual Income</th>\n",
       "      <th>Purpose</th>\n",
       "      <th>Monthly Debt</th>\n",
       "      <th>Years of Credit History</th>\n",
       "      <th>Months since last delinquent</th>\n",
       "      <th>Number of Open Accounts</th>\n",
       "      <th>Number of Credit Problems</th>\n",
       "      <th>Current Credit Balance</th>\n",
       "      <th>Maximum Open Credit</th>\n",
       "      <th>Bankruptcies</th>\n",
       "      <th>Tax Liens</th>\n",
       "    </tr>\n",
       "  </thead>\n",
       "  <tbody>\n",
       "    <tr>\n",
       "      <th>2</th>\n",
       "      <td>c159a79a-8d2b-447c-92a9-052b5466d6cd</td>\n",
       "      <td>1</td>\n",
       "      <td>c54e404f-1e94-45a2-9473-972e2f3c378b</td>\n",
       "      <td>5042</td>\n",
       "      <td>0</td>\n",
       "      <td>745</td>\n",
       "      <td>10+ years</td>\n",
       "      <td>Home Mortgage</td>\n",
       "      <td>40332</td>\n",
       "      <td>Debt Consolidation</td>\n",
       "      <td>873.86</td>\n",
       "      <td>16.4</td>\n",
       "      <td>11.0</td>\n",
       "      <td>6</td>\n",
       "      <td>0</td>\n",
       "      <td>6698</td>\n",
       "      <td>17958.0</td>\n",
       "      <td>0.0</td>\n",
       "      <td>0.0</td>\n",
       "    </tr>\n",
       "    <tr>\n",
       "      <th>3</th>\n",
       "      <td>c1428058-2dc6-4a88-b64c-b6034dfb4f8f</td>\n",
       "      <td>0</td>\n",
       "      <td>37923e4e-df73-4093-a4b8-c2dfcbd0c8d8</td>\n",
       "      <td>14139</td>\n",
       "      <td>1</td>\n",
       "      <td>677</td>\n",
       "      <td>&lt; 1 year</td>\n",
       "      <td>Rent</td>\n",
       "      <td>70693</td>\n",
       "      <td>Debt Consolidation</td>\n",
       "      <td>482.48</td>\n",
       "      <td>19.5</td>\n",
       "      <td>33.0</td>\n",
       "      <td>8</td>\n",
       "      <td>0</td>\n",
       "      <td>5928</td>\n",
       "      <td>7273.0</td>\n",
       "      <td>0.0</td>\n",
       "      <td>0.0</td>\n",
       "    </tr>\n",
       "    <tr>\n",
       "      <th>4</th>\n",
       "      <td>20344186-79bd-487a-b7c4-f3c7b57fe3e8</td>\n",
       "      <td>0</td>\n",
       "      <td>d5dc29d5-06f9-452e-9d55-c1d543dca5dd</td>\n",
       "      <td>15191</td>\n",
       "      <td>1</td>\n",
       "      <td>716</td>\n",
       "      <td>10+ years</td>\n",
       "      <td>Home Mortgage</td>\n",
       "      <td>38442</td>\n",
       "      <td>Debt Consolidation</td>\n",
       "      <td>611.87</td>\n",
       "      <td>17.8</td>\n",
       "      <td>0.0</td>\n",
       "      <td>4</td>\n",
       "      <td>0</td>\n",
       "      <td>10714</td>\n",
       "      <td>11243.0</td>\n",
       "      <td>0.0</td>\n",
       "      <td>0.0</td>\n",
       "    </tr>\n",
       "  </tbody>\n",
       "</table>\n",
       "</div>"
      ],
      "text/plain": [
       "                                Loan ID  Loan Status  \\\n",
       "2  c159a79a-8d2b-447c-92a9-052b5466d6cd            1   \n",
       "3  c1428058-2dc6-4a88-b64c-b6034dfb4f8f            0   \n",
       "4  20344186-79bd-487a-b7c4-f3c7b57fe3e8            0   \n",
       "\n",
       "                            Customer ID  Current Loan Amount  Term  \\\n",
       "2  c54e404f-1e94-45a2-9473-972e2f3c378b                 5042     0   \n",
       "3  37923e4e-df73-4093-a4b8-c2dfcbd0c8d8                14139     1   \n",
       "4  d5dc29d5-06f9-452e-9d55-c1d543dca5dd                15191     1   \n",
       "\n",
       "   Credit Score Years in current job Home Ownership  Annual Income  \\\n",
       "2           745            10+ years  Home Mortgage          40332   \n",
       "3           677             < 1 year           Rent          70693   \n",
       "4           716            10+ years  Home Mortgage          38442   \n",
       "\n",
       "              Purpose  Monthly Debt  Years of Credit History  \\\n",
       "2  Debt Consolidation        873.86                     16.4   \n",
       "3  Debt Consolidation        482.48                     19.5   \n",
       "4  Debt Consolidation        611.87                     17.8   \n",
       "\n",
       "   Months since last delinquent  Number of Open Accounts  \\\n",
       "2                          11.0                        6   \n",
       "3                          33.0                        8   \n",
       "4                           0.0                        4   \n",
       "\n",
       "   Number of Credit Problems  Current Credit Balance  Maximum Open Credit  \\\n",
       "2                          0                    6698              17958.0   \n",
       "3                          0                    5928               7273.0   \n",
       "4                          0                   10714              11243.0   \n",
       "\n",
       "   Bankruptcies  Tax Liens  \n",
       "2           0.0        0.0  \n",
       "3           0.0        0.0  \n",
       "4           0.0        0.0  "
      ]
     },
     "execution_count": 78,
     "metadata": {},
     "output_type": "execute_result"
    }
   ],
   "source": [
    "test_data.head(3)"
   ]
  },
  {
   "cell_type": "code",
   "execution_count": 79,
   "id": "40d7e2b5",
   "metadata": {},
   "outputs": [],
   "source": [
    "test_data['Years in current job'].replace({'< 1 year':0,'1 year':1,'2 years':2,'3 years':3,'4 years':4,\n",
    "                                        '5 years':5,'6 years':6,'7 years':7,'8 years':8,'9 years':9,\n",
    "                                        '10+ years':10},inplace = True)"
   ]
  },
  {
   "cell_type": "code",
   "execution_count": 80,
   "id": "d5f18b07",
   "metadata": {
    "scrolled": true
   },
   "outputs": [
    {
     "data": {
      "text/html": [
       "<div>\n",
       "<style scoped>\n",
       "    .dataframe tbody tr th:only-of-type {\n",
       "        vertical-align: middle;\n",
       "    }\n",
       "\n",
       "    .dataframe tbody tr th {\n",
       "        vertical-align: top;\n",
       "    }\n",
       "\n",
       "    .dataframe thead th {\n",
       "        text-align: right;\n",
       "    }\n",
       "</style>\n",
       "<table border=\"1\" class=\"dataframe\">\n",
       "  <thead>\n",
       "    <tr style=\"text-align: right;\">\n",
       "      <th></th>\n",
       "      <th>Loan ID</th>\n",
       "      <th>Loan Status</th>\n",
       "      <th>Customer ID</th>\n",
       "      <th>Current Loan Amount</th>\n",
       "      <th>Term</th>\n",
       "      <th>Credit Score</th>\n",
       "      <th>Years in current job</th>\n",
       "      <th>Home Ownership</th>\n",
       "      <th>Annual Income</th>\n",
       "      <th>Purpose</th>\n",
       "      <th>Monthly Debt</th>\n",
       "      <th>Years of Credit History</th>\n",
       "      <th>Months since last delinquent</th>\n",
       "      <th>Number of Open Accounts</th>\n",
       "      <th>Number of Credit Problems</th>\n",
       "      <th>Current Credit Balance</th>\n",
       "      <th>Maximum Open Credit</th>\n",
       "      <th>Bankruptcies</th>\n",
       "      <th>Tax Liens</th>\n",
       "    </tr>\n",
       "  </thead>\n",
       "  <tbody>\n",
       "    <tr>\n",
       "      <th>2</th>\n",
       "      <td>c159a79a-8d2b-447c-92a9-052b5466d6cd</td>\n",
       "      <td>1</td>\n",
       "      <td>c54e404f-1e94-45a2-9473-972e2f3c378b</td>\n",
       "      <td>5042</td>\n",
       "      <td>0</td>\n",
       "      <td>745</td>\n",
       "      <td>10</td>\n",
       "      <td>Home Mortgage</td>\n",
       "      <td>40332</td>\n",
       "      <td>Debt Consolidation</td>\n",
       "      <td>873.86</td>\n",
       "      <td>16.4</td>\n",
       "      <td>11.0</td>\n",
       "      <td>6</td>\n",
       "      <td>0</td>\n",
       "      <td>6698</td>\n",
       "      <td>17958.0</td>\n",
       "      <td>0.0</td>\n",
       "      <td>0.0</td>\n",
       "    </tr>\n",
       "    <tr>\n",
       "      <th>3</th>\n",
       "      <td>c1428058-2dc6-4a88-b64c-b6034dfb4f8f</td>\n",
       "      <td>0</td>\n",
       "      <td>37923e4e-df73-4093-a4b8-c2dfcbd0c8d8</td>\n",
       "      <td>14139</td>\n",
       "      <td>1</td>\n",
       "      <td>677</td>\n",
       "      <td>0</td>\n",
       "      <td>Rent</td>\n",
       "      <td>70693</td>\n",
       "      <td>Debt Consolidation</td>\n",
       "      <td>482.48</td>\n",
       "      <td>19.5</td>\n",
       "      <td>33.0</td>\n",
       "      <td>8</td>\n",
       "      <td>0</td>\n",
       "      <td>5928</td>\n",
       "      <td>7273.0</td>\n",
       "      <td>0.0</td>\n",
       "      <td>0.0</td>\n",
       "    </tr>\n",
       "    <tr>\n",
       "      <th>4</th>\n",
       "      <td>20344186-79bd-487a-b7c4-f3c7b57fe3e8</td>\n",
       "      <td>0</td>\n",
       "      <td>d5dc29d5-06f9-452e-9d55-c1d543dca5dd</td>\n",
       "      <td>15191</td>\n",
       "      <td>1</td>\n",
       "      <td>716</td>\n",
       "      <td>10</td>\n",
       "      <td>Home Mortgage</td>\n",
       "      <td>38442</td>\n",
       "      <td>Debt Consolidation</td>\n",
       "      <td>611.87</td>\n",
       "      <td>17.8</td>\n",
       "      <td>0.0</td>\n",
       "      <td>4</td>\n",
       "      <td>0</td>\n",
       "      <td>10714</td>\n",
       "      <td>11243.0</td>\n",
       "      <td>0.0</td>\n",
       "      <td>0.0</td>\n",
       "    </tr>\n",
       "    <tr>\n",
       "      <th>5</th>\n",
       "      <td>5b85d870-178d-40dd-bc91-bc48392f6572</td>\n",
       "      <td>1</td>\n",
       "      <td>5547bfc2-bc90-4802-927b-eda98859a247</td>\n",
       "      <td>10023</td>\n",
       "      <td>1</td>\n",
       "      <td>724</td>\n",
       "      <td>0</td>\n",
       "      <td>Rent</td>\n",
       "      <td>40092</td>\n",
       "      <td>other</td>\n",
       "      <td>544.58</td>\n",
       "      <td>18.4</td>\n",
       "      <td>0.0</td>\n",
       "      <td>7</td>\n",
       "      <td>1</td>\n",
       "      <td>3126</td>\n",
       "      <td>13711.0</td>\n",
       "      <td>1.0</td>\n",
       "      <td>0.0</td>\n",
       "    </tr>\n",
       "    <tr>\n",
       "      <th>6</th>\n",
       "      <td>b352edea-9c4d-4e68-9253-97e07142fc32</td>\n",
       "      <td>1</td>\n",
       "      <td>ca8a978e-f50e-4390-ad0f-dafd10da7c46</td>\n",
       "      <td>2524</td>\n",
       "      <td>0</td>\n",
       "      <td>733</td>\n",
       "      <td>10</td>\n",
       "      <td>Home Mortgage</td>\n",
       "      <td>26199</td>\n",
       "      <td>Home Improvements</td>\n",
       "      <td>240.16</td>\n",
       "      <td>24.2</td>\n",
       "      <td>0.0</td>\n",
       "      <td>4</td>\n",
       "      <td>1</td>\n",
       "      <td>533</td>\n",
       "      <td>2961.0</td>\n",
       "      <td>1.0</td>\n",
       "      <td>0.0</td>\n",
       "    </tr>\n",
       "  </tbody>\n",
       "</table>\n",
       "</div>"
      ],
      "text/plain": [
       "                                Loan ID  Loan Status  \\\n",
       "2  c159a79a-8d2b-447c-92a9-052b5466d6cd            1   \n",
       "3  c1428058-2dc6-4a88-b64c-b6034dfb4f8f            0   \n",
       "4  20344186-79bd-487a-b7c4-f3c7b57fe3e8            0   \n",
       "5  5b85d870-178d-40dd-bc91-bc48392f6572            1   \n",
       "6  b352edea-9c4d-4e68-9253-97e07142fc32            1   \n",
       "\n",
       "                            Customer ID  Current Loan Amount  Term  \\\n",
       "2  c54e404f-1e94-45a2-9473-972e2f3c378b                 5042     0   \n",
       "3  37923e4e-df73-4093-a4b8-c2dfcbd0c8d8                14139     1   \n",
       "4  d5dc29d5-06f9-452e-9d55-c1d543dca5dd                15191     1   \n",
       "5  5547bfc2-bc90-4802-927b-eda98859a247                10023     1   \n",
       "6  ca8a978e-f50e-4390-ad0f-dafd10da7c46                 2524     0   \n",
       "\n",
       "   Credit Score  Years in current job Home Ownership  Annual Income  \\\n",
       "2           745                    10  Home Mortgage          40332   \n",
       "3           677                     0           Rent          70693   \n",
       "4           716                    10  Home Mortgage          38442   \n",
       "5           724                     0           Rent          40092   \n",
       "6           733                    10  Home Mortgage          26199   \n",
       "\n",
       "              Purpose  Monthly Debt  Years of Credit History  \\\n",
       "2  Debt Consolidation        873.86                     16.4   \n",
       "3  Debt Consolidation        482.48                     19.5   \n",
       "4  Debt Consolidation        611.87                     17.8   \n",
       "5               other        544.58                     18.4   \n",
       "6   Home Improvements        240.16                     24.2   \n",
       "\n",
       "   Months since last delinquent  Number of Open Accounts  \\\n",
       "2                          11.0                        6   \n",
       "3                          33.0                        8   \n",
       "4                           0.0                        4   \n",
       "5                           0.0                        7   \n",
       "6                           0.0                        4   \n",
       "\n",
       "   Number of Credit Problems  Current Credit Balance  Maximum Open Credit  \\\n",
       "2                          0                    6698              17958.0   \n",
       "3                          0                    5928               7273.0   \n",
       "4                          0                   10714              11243.0   \n",
       "5                          1                    3126              13711.0   \n",
       "6                          1                     533               2961.0   \n",
       "\n",
       "   Bankruptcies  Tax Liens  \n",
       "2           0.0        0.0  \n",
       "3           0.0        0.0  \n",
       "4           0.0        0.0  \n",
       "5           1.0        0.0  \n",
       "6           1.0        0.0  "
      ]
     },
     "execution_count": 80,
     "metadata": {},
     "output_type": "execute_result"
    }
   ],
   "source": [
    "test_data.head(5)"
   ]
  },
  {
   "cell_type": "code",
   "execution_count": 81,
   "id": "eeea4313",
   "metadata": {},
   "outputs": [],
   "source": [
    "test_data.drop(columns=['Loan ID', 'Customer ID'],inplace = True)"
   ]
  },
  {
   "cell_type": "code",
   "execution_count": 82,
   "id": "d5facd45",
   "metadata": {},
   "outputs": [
    {
     "data": {
      "text/html": [
       "<div>\n",
       "<style scoped>\n",
       "    .dataframe tbody tr th:only-of-type {\n",
       "        vertical-align: middle;\n",
       "    }\n",
       "\n",
       "    .dataframe tbody tr th {\n",
       "        vertical-align: top;\n",
       "    }\n",
       "\n",
       "    .dataframe thead th {\n",
       "        text-align: right;\n",
       "    }\n",
       "</style>\n",
       "<table border=\"1\" class=\"dataframe\">\n",
       "  <thead>\n",
       "    <tr style=\"text-align: right;\">\n",
       "      <th></th>\n",
       "      <th>Loan Status</th>\n",
       "      <th>Current Loan Amount</th>\n",
       "      <th>Term</th>\n",
       "      <th>Credit Score</th>\n",
       "      <th>Years in current job</th>\n",
       "      <th>Home Ownership</th>\n",
       "      <th>Annual Income</th>\n",
       "      <th>Purpose</th>\n",
       "      <th>Monthly Debt</th>\n",
       "      <th>Years of Credit History</th>\n",
       "      <th>Months since last delinquent</th>\n",
       "      <th>Number of Open Accounts</th>\n",
       "      <th>Number of Credit Problems</th>\n",
       "      <th>Current Credit Balance</th>\n",
       "      <th>Maximum Open Credit</th>\n",
       "      <th>Bankruptcies</th>\n",
       "      <th>Tax Liens</th>\n",
       "    </tr>\n",
       "  </thead>\n",
       "  <tbody>\n",
       "    <tr>\n",
       "      <th>2</th>\n",
       "      <td>1</td>\n",
       "      <td>5042</td>\n",
       "      <td>0</td>\n",
       "      <td>745</td>\n",
       "      <td>10</td>\n",
       "      <td>Home Mortgage</td>\n",
       "      <td>40332</td>\n",
       "      <td>Debt Consolidation</td>\n",
       "      <td>873.86</td>\n",
       "      <td>16.4</td>\n",
       "      <td>11.0</td>\n",
       "      <td>6</td>\n",
       "      <td>0</td>\n",
       "      <td>6698</td>\n",
       "      <td>17958.0</td>\n",
       "      <td>0.0</td>\n",
       "      <td>0.0</td>\n",
       "    </tr>\n",
       "    <tr>\n",
       "      <th>3</th>\n",
       "      <td>0</td>\n",
       "      <td>14139</td>\n",
       "      <td>1</td>\n",
       "      <td>677</td>\n",
       "      <td>0</td>\n",
       "      <td>Rent</td>\n",
       "      <td>70693</td>\n",
       "      <td>Debt Consolidation</td>\n",
       "      <td>482.48</td>\n",
       "      <td>19.5</td>\n",
       "      <td>33.0</td>\n",
       "      <td>8</td>\n",
       "      <td>0</td>\n",
       "      <td>5928</td>\n",
       "      <td>7273.0</td>\n",
       "      <td>0.0</td>\n",
       "      <td>0.0</td>\n",
       "    </tr>\n",
       "    <tr>\n",
       "      <th>4</th>\n",
       "      <td>0</td>\n",
       "      <td>15191</td>\n",
       "      <td>1</td>\n",
       "      <td>716</td>\n",
       "      <td>10</td>\n",
       "      <td>Home Mortgage</td>\n",
       "      <td>38442</td>\n",
       "      <td>Debt Consolidation</td>\n",
       "      <td>611.87</td>\n",
       "      <td>17.8</td>\n",
       "      <td>0.0</td>\n",
       "      <td>4</td>\n",
       "      <td>0</td>\n",
       "      <td>10714</td>\n",
       "      <td>11243.0</td>\n",
       "      <td>0.0</td>\n",
       "      <td>0.0</td>\n",
       "    </tr>\n",
       "    <tr>\n",
       "      <th>5</th>\n",
       "      <td>1</td>\n",
       "      <td>10023</td>\n",
       "      <td>1</td>\n",
       "      <td>724</td>\n",
       "      <td>0</td>\n",
       "      <td>Rent</td>\n",
       "      <td>40092</td>\n",
       "      <td>other</td>\n",
       "      <td>544.58</td>\n",
       "      <td>18.4</td>\n",
       "      <td>0.0</td>\n",
       "      <td>7</td>\n",
       "      <td>1</td>\n",
       "      <td>3126</td>\n",
       "      <td>13711.0</td>\n",
       "      <td>1.0</td>\n",
       "      <td>0.0</td>\n",
       "    </tr>\n",
       "    <tr>\n",
       "      <th>6</th>\n",
       "      <td>1</td>\n",
       "      <td>2524</td>\n",
       "      <td>0</td>\n",
       "      <td>733</td>\n",
       "      <td>10</td>\n",
       "      <td>Home Mortgage</td>\n",
       "      <td>26199</td>\n",
       "      <td>Home Improvements</td>\n",
       "      <td>240.16</td>\n",
       "      <td>24.2</td>\n",
       "      <td>0.0</td>\n",
       "      <td>4</td>\n",
       "      <td>1</td>\n",
       "      <td>533</td>\n",
       "      <td>2961.0</td>\n",
       "      <td>1.0</td>\n",
       "      <td>0.0</td>\n",
       "    </tr>\n",
       "  </tbody>\n",
       "</table>\n",
       "</div>"
      ],
      "text/plain": [
       "   Loan Status  Current Loan Amount  Term  Credit Score  Years in current job  \\\n",
       "2            1                 5042     0           745                    10   \n",
       "3            0                14139     1           677                     0   \n",
       "4            0                15191     1           716                    10   \n",
       "5            1                10023     1           724                     0   \n",
       "6            1                 2524     0           733                    10   \n",
       "\n",
       "  Home Ownership  Annual Income             Purpose  Monthly Debt  \\\n",
       "2  Home Mortgage          40332  Debt Consolidation        873.86   \n",
       "3           Rent          70693  Debt Consolidation        482.48   \n",
       "4  Home Mortgage          38442  Debt Consolidation        611.87   \n",
       "5           Rent          40092               other        544.58   \n",
       "6  Home Mortgage          26199   Home Improvements        240.16   \n",
       "\n",
       "   Years of Credit History  Months since last delinquent  \\\n",
       "2                     16.4                          11.0   \n",
       "3                     19.5                          33.0   \n",
       "4                     17.8                           0.0   \n",
       "5                     18.4                           0.0   \n",
       "6                     24.2                           0.0   \n",
       "\n",
       "   Number of Open Accounts  Number of Credit Problems  Current Credit Balance  \\\n",
       "2                        6                          0                    6698   \n",
       "3                        8                          0                    5928   \n",
       "4                        4                          0                   10714   \n",
       "5                        7                          1                    3126   \n",
       "6                        4                          1                     533   \n",
       "\n",
       "   Maximum Open Credit  Bankruptcies  Tax Liens  \n",
       "2              17958.0           0.0        0.0  \n",
       "3               7273.0           0.0        0.0  \n",
       "4              11243.0           0.0        0.0  \n",
       "5              13711.0           1.0        0.0  \n",
       "6               2961.0           1.0        0.0  "
      ]
     },
     "execution_count": 82,
     "metadata": {},
     "output_type": "execute_result"
    }
   ],
   "source": [
    "test_data.head()"
   ]
  },
  {
   "cell_type": "code",
   "execution_count": 83,
   "id": "5406ba52",
   "metadata": {
    "scrolled": true
   },
   "outputs": [
    {
     "data": {
      "text/html": [
       "<div>\n",
       "<style scoped>\n",
       "    .dataframe tbody tr th:only-of-type {\n",
       "        vertical-align: middle;\n",
       "    }\n",
       "\n",
       "    .dataframe tbody tr th {\n",
       "        vertical-align: top;\n",
       "    }\n",
       "\n",
       "    .dataframe thead th {\n",
       "        text-align: right;\n",
       "    }\n",
       "</style>\n",
       "<table border=\"1\" class=\"dataframe\">\n",
       "  <thead>\n",
       "    <tr style=\"text-align: right;\">\n",
       "      <th></th>\n",
       "      <th>Loan Status</th>\n",
       "      <th>Current Loan Amount</th>\n",
       "      <th>Term</th>\n",
       "      <th>Credit Score</th>\n",
       "      <th>Years in current job</th>\n",
       "      <th>Annual Income</th>\n",
       "      <th>Monthly Debt</th>\n",
       "      <th>Years of Credit History</th>\n",
       "      <th>Months since last delinquent</th>\n",
       "      <th>Number of Open Accounts</th>\n",
       "      <th>...</th>\n",
       "      <th>Purpose_Home Improvements</th>\n",
       "      <th>Purpose_Medical Bills</th>\n",
       "      <th>Purpose_Take a Trip</th>\n",
       "      <th>Purpose_major_purchase</th>\n",
       "      <th>Purpose_moving</th>\n",
       "      <th>Purpose_other</th>\n",
       "      <th>Purpose_renewable_energy</th>\n",
       "      <th>Purpose_small_business</th>\n",
       "      <th>Purpose_vacation</th>\n",
       "      <th>Purpose_wedding</th>\n",
       "    </tr>\n",
       "  </thead>\n",
       "  <tbody>\n",
       "    <tr>\n",
       "      <th>2</th>\n",
       "      <td>1</td>\n",
       "      <td>5042</td>\n",
       "      <td>0</td>\n",
       "      <td>745</td>\n",
       "      <td>10</td>\n",
       "      <td>40332</td>\n",
       "      <td>873.86</td>\n",
       "      <td>16.4</td>\n",
       "      <td>11.0</td>\n",
       "      <td>6</td>\n",
       "      <td>...</td>\n",
       "      <td>0</td>\n",
       "      <td>0</td>\n",
       "      <td>0</td>\n",
       "      <td>0</td>\n",
       "      <td>0</td>\n",
       "      <td>0</td>\n",
       "      <td>0</td>\n",
       "      <td>0</td>\n",
       "      <td>0</td>\n",
       "      <td>0</td>\n",
       "    </tr>\n",
       "    <tr>\n",
       "      <th>3</th>\n",
       "      <td>0</td>\n",
       "      <td>14139</td>\n",
       "      <td>1</td>\n",
       "      <td>677</td>\n",
       "      <td>0</td>\n",
       "      <td>70693</td>\n",
       "      <td>482.48</td>\n",
       "      <td>19.5</td>\n",
       "      <td>33.0</td>\n",
       "      <td>8</td>\n",
       "      <td>...</td>\n",
       "      <td>0</td>\n",
       "      <td>0</td>\n",
       "      <td>0</td>\n",
       "      <td>0</td>\n",
       "      <td>0</td>\n",
       "      <td>0</td>\n",
       "      <td>0</td>\n",
       "      <td>0</td>\n",
       "      <td>0</td>\n",
       "      <td>0</td>\n",
       "    </tr>\n",
       "    <tr>\n",
       "      <th>4</th>\n",
       "      <td>0</td>\n",
       "      <td>15191</td>\n",
       "      <td>1</td>\n",
       "      <td>716</td>\n",
       "      <td>10</td>\n",
       "      <td>38442</td>\n",
       "      <td>611.87</td>\n",
       "      <td>17.8</td>\n",
       "      <td>0.0</td>\n",
       "      <td>4</td>\n",
       "      <td>...</td>\n",
       "      <td>0</td>\n",
       "      <td>0</td>\n",
       "      <td>0</td>\n",
       "      <td>0</td>\n",
       "      <td>0</td>\n",
       "      <td>0</td>\n",
       "      <td>0</td>\n",
       "      <td>0</td>\n",
       "      <td>0</td>\n",
       "      <td>0</td>\n",
       "    </tr>\n",
       "    <tr>\n",
       "      <th>5</th>\n",
       "      <td>1</td>\n",
       "      <td>10023</td>\n",
       "      <td>1</td>\n",
       "      <td>724</td>\n",
       "      <td>0</td>\n",
       "      <td>40092</td>\n",
       "      <td>544.58</td>\n",
       "      <td>18.4</td>\n",
       "      <td>0.0</td>\n",
       "      <td>7</td>\n",
       "      <td>...</td>\n",
       "      <td>0</td>\n",
       "      <td>0</td>\n",
       "      <td>0</td>\n",
       "      <td>0</td>\n",
       "      <td>0</td>\n",
       "      <td>1</td>\n",
       "      <td>0</td>\n",
       "      <td>0</td>\n",
       "      <td>0</td>\n",
       "      <td>0</td>\n",
       "    </tr>\n",
       "    <tr>\n",
       "      <th>6</th>\n",
       "      <td>1</td>\n",
       "      <td>2524</td>\n",
       "      <td>0</td>\n",
       "      <td>733</td>\n",
       "      <td>10</td>\n",
       "      <td>26199</td>\n",
       "      <td>240.16</td>\n",
       "      <td>24.2</td>\n",
       "      <td>0.0</td>\n",
       "      <td>4</td>\n",
       "      <td>...</td>\n",
       "      <td>1</td>\n",
       "      <td>0</td>\n",
       "      <td>0</td>\n",
       "      <td>0</td>\n",
       "      <td>0</td>\n",
       "      <td>0</td>\n",
       "      <td>0</td>\n",
       "      <td>0</td>\n",
       "      <td>0</td>\n",
       "      <td>0</td>\n",
       "    </tr>\n",
       "    <tr>\n",
       "      <th>...</th>\n",
       "      <td>...</td>\n",
       "      <td>...</td>\n",
       "      <td>...</td>\n",
       "      <td>...</td>\n",
       "      <td>...</td>\n",
       "      <td>...</td>\n",
       "      <td>...</td>\n",
       "      <td>...</td>\n",
       "      <td>...</td>\n",
       "      <td>...</td>\n",
       "      <td>...</td>\n",
       "      <td>...</td>\n",
       "      <td>...</td>\n",
       "      <td>...</td>\n",
       "      <td>...</td>\n",
       "      <td>...</td>\n",
       "      <td>...</td>\n",
       "      <td>...</td>\n",
       "      <td>...</td>\n",
       "      <td>...</td>\n",
       "      <td>...</td>\n",
       "    </tr>\n",
       "    <tr>\n",
       "      <th>44449</th>\n",
       "      <td>0</td>\n",
       "      <td>12292</td>\n",
       "      <td>0</td>\n",
       "      <td>735</td>\n",
       "      <td>10</td>\n",
       "      <td>60506</td>\n",
       "      <td>1089.12</td>\n",
       "      <td>18.3</td>\n",
       "      <td>51.0</td>\n",
       "      <td>13</td>\n",
       "      <td>...</td>\n",
       "      <td>0</td>\n",
       "      <td>0</td>\n",
       "      <td>0</td>\n",
       "      <td>0</td>\n",
       "      <td>0</td>\n",
       "      <td>0</td>\n",
       "      <td>0</td>\n",
       "      <td>0</td>\n",
       "      <td>0</td>\n",
       "      <td>0</td>\n",
       "    </tr>\n",
       "    <tr>\n",
       "      <th>44450</th>\n",
       "      <td>1</td>\n",
       "      <td>4931</td>\n",
       "      <td>0</td>\n",
       "      <td>743</td>\n",
       "      <td>9</td>\n",
       "      <td>34514</td>\n",
       "      <td>509.07</td>\n",
       "      <td>13.0</td>\n",
       "      <td>0.0</td>\n",
       "      <td>8</td>\n",
       "      <td>...</td>\n",
       "      <td>0</td>\n",
       "      <td>0</td>\n",
       "      <td>0</td>\n",
       "      <td>0</td>\n",
       "      <td>0</td>\n",
       "      <td>0</td>\n",
       "      <td>0</td>\n",
       "      <td>0</td>\n",
       "      <td>0</td>\n",
       "      <td>0</td>\n",
       "    </tr>\n",
       "    <tr>\n",
       "      <th>44451</th>\n",
       "      <td>0</td>\n",
       "      <td>23272</td>\n",
       "      <td>1</td>\n",
       "      <td>632</td>\n",
       "      <td>10</td>\n",
       "      <td>68663</td>\n",
       "      <td>1224.49</td>\n",
       "      <td>15.5</td>\n",
       "      <td>0.0</td>\n",
       "      <td>16</td>\n",
       "      <td>...</td>\n",
       "      <td>0</td>\n",
       "      <td>0</td>\n",
       "      <td>0</td>\n",
       "      <td>0</td>\n",
       "      <td>0</td>\n",
       "      <td>0</td>\n",
       "      <td>0</td>\n",
       "      <td>0</td>\n",
       "      <td>0</td>\n",
       "      <td>0</td>\n",
       "    </tr>\n",
       "    <tr>\n",
       "      <th>44452</th>\n",
       "      <td>0</td>\n",
       "      <td>18611</td>\n",
       "      <td>1</td>\n",
       "      <td>668</td>\n",
       "      <td>10</td>\n",
       "      <td>44312</td>\n",
       "      <td>242.24</td>\n",
       "      <td>31.8</td>\n",
       "      <td>24.0</td>\n",
       "      <td>11</td>\n",
       "      <td>...</td>\n",
       "      <td>0</td>\n",
       "      <td>0</td>\n",
       "      <td>0</td>\n",
       "      <td>0</td>\n",
       "      <td>0</td>\n",
       "      <td>0</td>\n",
       "      <td>0</td>\n",
       "      <td>0</td>\n",
       "      <td>0</td>\n",
       "      <td>0</td>\n",
       "    </tr>\n",
       "    <tr>\n",
       "      <th>44453</th>\n",
       "      <td>1</td>\n",
       "      <td>27618</td>\n",
       "      <td>1</td>\n",
       "      <td>721</td>\n",
       "      <td>0</td>\n",
       "      <td>93400</td>\n",
       "      <td>1580.01</td>\n",
       "      <td>23.9</td>\n",
       "      <td>0.0</td>\n",
       "      <td>14</td>\n",
       "      <td>...</td>\n",
       "      <td>0</td>\n",
       "      <td>0</td>\n",
       "      <td>0</td>\n",
       "      <td>0</td>\n",
       "      <td>0</td>\n",
       "      <td>0</td>\n",
       "      <td>0</td>\n",
       "      <td>0</td>\n",
       "      <td>0</td>\n",
       "      <td>0</td>\n",
       "    </tr>\n",
       "  </tbody>\n",
       "</table>\n",
       "<p>44451 rows × 33 columns</p>\n",
       "</div>"
      ],
      "text/plain": [
       "       Loan Status  Current Loan Amount  Term  Credit Score  \\\n",
       "2                1                 5042     0           745   \n",
       "3                0                14139     1           677   \n",
       "4                0                15191     1           716   \n",
       "5                1                10023     1           724   \n",
       "6                1                 2524     0           733   \n",
       "...            ...                  ...   ...           ...   \n",
       "44449            0                12292     0           735   \n",
       "44450            1                 4931     0           743   \n",
       "44451            0                23272     1           632   \n",
       "44452            0                18611     1           668   \n",
       "44453            1                27618     1           721   \n",
       "\n",
       "       Years in current job  Annual Income  Monthly Debt  \\\n",
       "2                        10          40332        873.86   \n",
       "3                         0          70693        482.48   \n",
       "4                        10          38442        611.87   \n",
       "5                         0          40092        544.58   \n",
       "6                        10          26199        240.16   \n",
       "...                     ...            ...           ...   \n",
       "44449                    10          60506       1089.12   \n",
       "44450                     9          34514        509.07   \n",
       "44451                    10          68663       1224.49   \n",
       "44452                    10          44312        242.24   \n",
       "44453                     0          93400       1580.01   \n",
       "\n",
       "       Years of Credit History  Months since last delinquent  \\\n",
       "2                         16.4                          11.0   \n",
       "3                         19.5                          33.0   \n",
       "4                         17.8                           0.0   \n",
       "5                         18.4                           0.0   \n",
       "6                         24.2                           0.0   \n",
       "...                        ...                           ...   \n",
       "44449                     18.3                          51.0   \n",
       "44450                     13.0                           0.0   \n",
       "44451                     15.5                           0.0   \n",
       "44452                     31.8                          24.0   \n",
       "44453                     23.9                           0.0   \n",
       "\n",
       "       Number of Open Accounts  ...  Purpose_Home Improvements  \\\n",
       "2                            6  ...                          0   \n",
       "3                            8  ...                          0   \n",
       "4                            4  ...                          0   \n",
       "5                            7  ...                          0   \n",
       "6                            4  ...                          1   \n",
       "...                        ...  ...                        ...   \n",
       "44449                       13  ...                          0   \n",
       "44450                        8  ...                          0   \n",
       "44451                       16  ...                          0   \n",
       "44452                       11  ...                          0   \n",
       "44453                       14  ...                          0   \n",
       "\n",
       "       Purpose_Medical Bills  Purpose_Take a Trip  Purpose_major_purchase  \\\n",
       "2                          0                    0                       0   \n",
       "3                          0                    0                       0   \n",
       "4                          0                    0                       0   \n",
       "5                          0                    0                       0   \n",
       "6                          0                    0                       0   \n",
       "...                      ...                  ...                     ...   \n",
       "44449                      0                    0                       0   \n",
       "44450                      0                    0                       0   \n",
       "44451                      0                    0                       0   \n",
       "44452                      0                    0                       0   \n",
       "44453                      0                    0                       0   \n",
       "\n",
       "       Purpose_moving  Purpose_other  Purpose_renewable_energy  \\\n",
       "2                   0              0                         0   \n",
       "3                   0              0                         0   \n",
       "4                   0              0                         0   \n",
       "5                   0              1                         0   \n",
       "6                   0              0                         0   \n",
       "...               ...            ...                       ...   \n",
       "44449               0              0                         0   \n",
       "44450               0              0                         0   \n",
       "44451               0              0                         0   \n",
       "44452               0              0                         0   \n",
       "44453               0              0                         0   \n",
       "\n",
       "       Purpose_small_business  Purpose_vacation  Purpose_wedding  \n",
       "2                           0                 0                0  \n",
       "3                           0                 0                0  \n",
       "4                           0                 0                0  \n",
       "5                           0                 0                0  \n",
       "6                           0                 0                0  \n",
       "...                       ...               ...              ...  \n",
       "44449                       0                 0                0  \n",
       "44450                       0                 0                0  \n",
       "44451                       0                 0                0  \n",
       "44452                       0                 0                0  \n",
       "44453                       0                 0                0  \n",
       "\n",
       "[44451 rows x 33 columns]"
      ]
     },
     "execution_count": 83,
     "metadata": {},
     "output_type": "execute_result"
    }
   ],
   "source": [
    "test_data = pd.get_dummies(test_data)\n",
    "test_data"
   ]
  },
  {
   "cell_type": "code",
   "execution_count": 84,
   "id": "432f7147",
   "metadata": {},
   "outputs": [],
   "source": [
    "# defining predicted and target variables\n",
    "X=test_data.drop(['Loan Status'], axis=1)\n",
    "y=test_data['Loan Status']"
   ]
  },
  {
   "cell_type": "markdown",
   "id": "84693eea",
   "metadata": {},
   "source": [
    "## Train - Test split"
   ]
  },
  {
   "cell_type": "code",
   "execution_count": 85,
   "id": "8499aabc",
   "metadata": {},
   "outputs": [],
   "source": [
    "#For test-train split\n",
    "\n",
    "from sklearn.model_selection import train_test_split\n",
    "\n",
    "# To handle the target class imbalance we make use of stratified random sampling\n",
    "X_train,X_test,y_train,y_test = train_test_split(X,y,stratify=y)"
   ]
  },
  {
   "cell_type": "code",
   "execution_count": 86,
   "id": "ca24e8f5",
   "metadata": {},
   "outputs": [
    {
     "data": {
      "text/html": [
       "<div>\n",
       "<style scoped>\n",
       "    .dataframe tbody tr th:only-of-type {\n",
       "        vertical-align: middle;\n",
       "    }\n",
       "\n",
       "    .dataframe tbody tr th {\n",
       "        vertical-align: top;\n",
       "    }\n",
       "\n",
       "    .dataframe thead th {\n",
       "        text-align: right;\n",
       "    }\n",
       "</style>\n",
       "<table border=\"1\" class=\"dataframe\">\n",
       "  <thead>\n",
       "    <tr style=\"text-align: right;\">\n",
       "      <th></th>\n",
       "      <th>Current Loan Amount</th>\n",
       "      <th>Term</th>\n",
       "      <th>Credit Score</th>\n",
       "      <th>Years in current job</th>\n",
       "      <th>Annual Income</th>\n",
       "      <th>Monthly Debt</th>\n",
       "      <th>Years of Credit History</th>\n",
       "      <th>Months since last delinquent</th>\n",
       "      <th>Number of Open Accounts</th>\n",
       "      <th>Number of Credit Problems</th>\n",
       "      <th>...</th>\n",
       "      <th>Purpose_Home Improvements</th>\n",
       "      <th>Purpose_Medical Bills</th>\n",
       "      <th>Purpose_Take a Trip</th>\n",
       "      <th>Purpose_major_purchase</th>\n",
       "      <th>Purpose_moving</th>\n",
       "      <th>Purpose_other</th>\n",
       "      <th>Purpose_renewable_energy</th>\n",
       "      <th>Purpose_small_business</th>\n",
       "      <th>Purpose_vacation</th>\n",
       "      <th>Purpose_wedding</th>\n",
       "    </tr>\n",
       "  </thead>\n",
       "  <tbody>\n",
       "    <tr>\n",
       "      <th>34894</th>\n",
       "      <td>19682</td>\n",
       "      <td>0</td>\n",
       "      <td>747</td>\n",
       "      <td>10</td>\n",
       "      <td>72991</td>\n",
       "      <td>875.89</td>\n",
       "      <td>22.7</td>\n",
       "      <td>0.0</td>\n",
       "      <td>6</td>\n",
       "      <td>0</td>\n",
       "      <td>...</td>\n",
       "      <td>0</td>\n",
       "      <td>0</td>\n",
       "      <td>0</td>\n",
       "      <td>0</td>\n",
       "      <td>0</td>\n",
       "      <td>0</td>\n",
       "      <td>0</td>\n",
       "      <td>0</td>\n",
       "      <td>0</td>\n",
       "      <td>0</td>\n",
       "    </tr>\n",
       "    <tr>\n",
       "      <th>44440</th>\n",
       "      <td>18337</td>\n",
       "      <td>0</td>\n",
       "      <td>748</td>\n",
       "      <td>1</td>\n",
       "      <td>132431</td>\n",
       "      <td>1082.62</td>\n",
       "      <td>25.0</td>\n",
       "      <td>35.0</td>\n",
       "      <td>12</td>\n",
       "      <td>0</td>\n",
       "      <td>...</td>\n",
       "      <td>0</td>\n",
       "      <td>0</td>\n",
       "      <td>0</td>\n",
       "      <td>0</td>\n",
       "      <td>0</td>\n",
       "      <td>0</td>\n",
       "      <td>0</td>\n",
       "      <td>0</td>\n",
       "      <td>0</td>\n",
       "      <td>0</td>\n",
       "    </tr>\n",
       "    <tr>\n",
       "      <th>33130</th>\n",
       "      <td>9772</td>\n",
       "      <td>0</td>\n",
       "      <td>716</td>\n",
       "      <td>10</td>\n",
       "      <td>40065</td>\n",
       "      <td>1031.68</td>\n",
       "      <td>23.0</td>\n",
       "      <td>63.0</td>\n",
       "      <td>14</td>\n",
       "      <td>0</td>\n",
       "      <td>...</td>\n",
       "      <td>0</td>\n",
       "      <td>0</td>\n",
       "      <td>0</td>\n",
       "      <td>0</td>\n",
       "      <td>0</td>\n",
       "      <td>0</td>\n",
       "      <td>0</td>\n",
       "      <td>0</td>\n",
       "      <td>0</td>\n",
       "      <td>0</td>\n",
       "    </tr>\n",
       "    <tr>\n",
       "      <th>31973</th>\n",
       "      <td>12374</td>\n",
       "      <td>0</td>\n",
       "      <td>728</td>\n",
       "      <td>10</td>\n",
       "      <td>45995</td>\n",
       "      <td>1238.05</td>\n",
       "      <td>18.5</td>\n",
       "      <td>10.0</td>\n",
       "      <td>14</td>\n",
       "      <td>0</td>\n",
       "      <td>...</td>\n",
       "      <td>0</td>\n",
       "      <td>0</td>\n",
       "      <td>0</td>\n",
       "      <td>0</td>\n",
       "      <td>0</td>\n",
       "      <td>0</td>\n",
       "      <td>0</td>\n",
       "      <td>0</td>\n",
       "      <td>0</td>\n",
       "      <td>0</td>\n",
       "    </tr>\n",
       "    <tr>\n",
       "      <th>26696</th>\n",
       "      <td>6648</td>\n",
       "      <td>0</td>\n",
       "      <td>743</td>\n",
       "      <td>9</td>\n",
       "      <td>42665</td>\n",
       "      <td>351.27</td>\n",
       "      <td>17.0</td>\n",
       "      <td>0.0</td>\n",
       "      <td>13</td>\n",
       "      <td>1</td>\n",
       "      <td>...</td>\n",
       "      <td>0</td>\n",
       "      <td>0</td>\n",
       "      <td>0</td>\n",
       "      <td>0</td>\n",
       "      <td>0</td>\n",
       "      <td>0</td>\n",
       "      <td>0</td>\n",
       "      <td>0</td>\n",
       "      <td>0</td>\n",
       "      <td>0</td>\n",
       "    </tr>\n",
       "    <tr>\n",
       "      <th>...</th>\n",
       "      <td>...</td>\n",
       "      <td>...</td>\n",
       "      <td>...</td>\n",
       "      <td>...</td>\n",
       "      <td>...</td>\n",
       "      <td>...</td>\n",
       "      <td>...</td>\n",
       "      <td>...</td>\n",
       "      <td>...</td>\n",
       "      <td>...</td>\n",
       "      <td>...</td>\n",
       "      <td>...</td>\n",
       "      <td>...</td>\n",
       "      <td>...</td>\n",
       "      <td>...</td>\n",
       "      <td>...</td>\n",
       "      <td>...</td>\n",
       "      <td>...</td>\n",
       "      <td>...</td>\n",
       "      <td>...</td>\n",
       "      <td>...</td>\n",
       "    </tr>\n",
       "    <tr>\n",
       "      <th>18170</th>\n",
       "      <td>23959</td>\n",
       "      <td>1</td>\n",
       "      <td>746</td>\n",
       "      <td>10</td>\n",
       "      <td>109813</td>\n",
       "      <td>323.03</td>\n",
       "      <td>20.5</td>\n",
       "      <td>0.0</td>\n",
       "      <td>9</td>\n",
       "      <td>0</td>\n",
       "      <td>...</td>\n",
       "      <td>1</td>\n",
       "      <td>0</td>\n",
       "      <td>0</td>\n",
       "      <td>0</td>\n",
       "      <td>0</td>\n",
       "      <td>0</td>\n",
       "      <td>0</td>\n",
       "      <td>0</td>\n",
       "      <td>0</td>\n",
       "      <td>0</td>\n",
       "    </tr>\n",
       "    <tr>\n",
       "      <th>2515</th>\n",
       "      <td>19225</td>\n",
       "      <td>1</td>\n",
       "      <td>717</td>\n",
       "      <td>10</td>\n",
       "      <td>71848</td>\n",
       "      <td>1413.00</td>\n",
       "      <td>15.4</td>\n",
       "      <td>43.0</td>\n",
       "      <td>6</td>\n",
       "      <td>0</td>\n",
       "      <td>...</td>\n",
       "      <td>0</td>\n",
       "      <td>0</td>\n",
       "      <td>0</td>\n",
       "      <td>0</td>\n",
       "      <td>0</td>\n",
       "      <td>0</td>\n",
       "      <td>0</td>\n",
       "      <td>0</td>\n",
       "      <td>0</td>\n",
       "      <td>0</td>\n",
       "    </tr>\n",
       "    <tr>\n",
       "      <th>7807</th>\n",
       "      <td>16662</td>\n",
       "      <td>0</td>\n",
       "      <td>744</td>\n",
       "      <td>9</td>\n",
       "      <td>89189</td>\n",
       "      <td>1152.03</td>\n",
       "      <td>24.4</td>\n",
       "      <td>26.0</td>\n",
       "      <td>4</td>\n",
       "      <td>0</td>\n",
       "      <td>...</td>\n",
       "      <td>0</td>\n",
       "      <td>0</td>\n",
       "      <td>0</td>\n",
       "      <td>0</td>\n",
       "      <td>0</td>\n",
       "      <td>0</td>\n",
       "      <td>0</td>\n",
       "      <td>0</td>\n",
       "      <td>0</td>\n",
       "      <td>0</td>\n",
       "    </tr>\n",
       "    <tr>\n",
       "      <th>8810</th>\n",
       "      <td>25428</td>\n",
       "      <td>0</td>\n",
       "      <td>747</td>\n",
       "      <td>5</td>\n",
       "      <td>152565</td>\n",
       "      <td>939.55</td>\n",
       "      <td>28.8</td>\n",
       "      <td>0.0</td>\n",
       "      <td>20</td>\n",
       "      <td>0</td>\n",
       "      <td>...</td>\n",
       "      <td>0</td>\n",
       "      <td>0</td>\n",
       "      <td>0</td>\n",
       "      <td>0</td>\n",
       "      <td>0</td>\n",
       "      <td>0</td>\n",
       "      <td>0</td>\n",
       "      <td>0</td>\n",
       "      <td>0</td>\n",
       "      <td>0</td>\n",
       "    </tr>\n",
       "    <tr>\n",
       "      <th>31058</th>\n",
       "      <td>15267</td>\n",
       "      <td>0</td>\n",
       "      <td>743</td>\n",
       "      <td>9</td>\n",
       "      <td>71246</td>\n",
       "      <td>213.74</td>\n",
       "      <td>18.0</td>\n",
       "      <td>43.0</td>\n",
       "      <td>4</td>\n",
       "      <td>0</td>\n",
       "      <td>...</td>\n",
       "      <td>0</td>\n",
       "      <td>0</td>\n",
       "      <td>0</td>\n",
       "      <td>0</td>\n",
       "      <td>0</td>\n",
       "      <td>0</td>\n",
       "      <td>0</td>\n",
       "      <td>0</td>\n",
       "      <td>0</td>\n",
       "      <td>0</td>\n",
       "    </tr>\n",
       "  </tbody>\n",
       "</table>\n",
       "<p>33338 rows × 32 columns</p>\n",
       "</div>"
      ],
      "text/plain": [
       "       Current Loan Amount  Term  Credit Score  Years in current job  \\\n",
       "34894                19682     0           747                    10   \n",
       "44440                18337     0           748                     1   \n",
       "33130                 9772     0           716                    10   \n",
       "31973                12374     0           728                    10   \n",
       "26696                 6648     0           743                     9   \n",
       "...                    ...   ...           ...                   ...   \n",
       "18170                23959     1           746                    10   \n",
       "2515                 19225     1           717                    10   \n",
       "7807                 16662     0           744                     9   \n",
       "8810                 25428     0           747                     5   \n",
       "31058                15267     0           743                     9   \n",
       "\n",
       "       Annual Income  Monthly Debt  Years of Credit History  \\\n",
       "34894          72991        875.89                     22.7   \n",
       "44440         132431       1082.62                     25.0   \n",
       "33130          40065       1031.68                     23.0   \n",
       "31973          45995       1238.05                     18.5   \n",
       "26696          42665        351.27                     17.0   \n",
       "...              ...           ...                      ...   \n",
       "18170         109813        323.03                     20.5   \n",
       "2515           71848       1413.00                     15.4   \n",
       "7807           89189       1152.03                     24.4   \n",
       "8810          152565        939.55                     28.8   \n",
       "31058          71246        213.74                     18.0   \n",
       "\n",
       "       Months since last delinquent  Number of Open Accounts  \\\n",
       "34894                           0.0                        6   \n",
       "44440                          35.0                       12   \n",
       "33130                          63.0                       14   \n",
       "31973                          10.0                       14   \n",
       "26696                           0.0                       13   \n",
       "...                             ...                      ...   \n",
       "18170                           0.0                        9   \n",
       "2515                           43.0                        6   \n",
       "7807                           26.0                        4   \n",
       "8810                            0.0                       20   \n",
       "31058                          43.0                        4   \n",
       "\n",
       "       Number of Credit Problems  ...  Purpose_Home Improvements  \\\n",
       "34894                          0  ...                          0   \n",
       "44440                          0  ...                          0   \n",
       "33130                          0  ...                          0   \n",
       "31973                          0  ...                          0   \n",
       "26696                          1  ...                          0   \n",
       "...                          ...  ...                        ...   \n",
       "18170                          0  ...                          1   \n",
       "2515                           0  ...                          0   \n",
       "7807                           0  ...                          0   \n",
       "8810                           0  ...                          0   \n",
       "31058                          0  ...                          0   \n",
       "\n",
       "       Purpose_Medical Bills  Purpose_Take a Trip  Purpose_major_purchase  \\\n",
       "34894                      0                    0                       0   \n",
       "44440                      0                    0                       0   \n",
       "33130                      0                    0                       0   \n",
       "31973                      0                    0                       0   \n",
       "26696                      0                    0                       0   \n",
       "...                      ...                  ...                     ...   \n",
       "18170                      0                    0                       0   \n",
       "2515                       0                    0                       0   \n",
       "7807                       0                    0                       0   \n",
       "8810                       0                    0                       0   \n",
       "31058                      0                    0                       0   \n",
       "\n",
       "       Purpose_moving  Purpose_other  Purpose_renewable_energy  \\\n",
       "34894               0              0                         0   \n",
       "44440               0              0                         0   \n",
       "33130               0              0                         0   \n",
       "31973               0              0                         0   \n",
       "26696               0              0                         0   \n",
       "...               ...            ...                       ...   \n",
       "18170               0              0                         0   \n",
       "2515                0              0                         0   \n",
       "7807                0              0                         0   \n",
       "8810                0              0                         0   \n",
       "31058               0              0                         0   \n",
       "\n",
       "       Purpose_small_business  Purpose_vacation  Purpose_wedding  \n",
       "34894                       0                 0                0  \n",
       "44440                       0                 0                0  \n",
       "33130                       0                 0                0  \n",
       "31973                       0                 0                0  \n",
       "26696                       0                 0                0  \n",
       "...                       ...               ...              ...  \n",
       "18170                       0                 0                0  \n",
       "2515                        0                 0                0  \n",
       "7807                        0                 0                0  \n",
       "8810                        0                 0                0  \n",
       "31058                       0                 0                0  \n",
       "\n",
       "[33338 rows x 32 columns]"
      ]
     },
     "execution_count": 86,
     "metadata": {},
     "output_type": "execute_result"
    }
   ],
   "source": [
    "X_train"
   ]
  },
  {
   "cell_type": "markdown",
   "id": "aabd5085",
   "metadata": {},
   "source": [
    "## using SMOTE method to balance the data"
   ]
  },
  {
   "cell_type": "code",
   "execution_count": 88,
   "id": "25fe0701",
   "metadata": {},
   "outputs": [],
   "source": [
    "from imblearn.over_sampling import SMOTE\n",
    "sm = SMOTE()\n",
    "X_res, y_res = sm.fit_resample(X_train, y_train)"
   ]
  },
  {
   "cell_type": "code",
   "execution_count": 89,
   "id": "945ad4f6",
   "metadata": {},
   "outputs": [
    {
     "data": {
      "text/plain": [
       "1    23900\n",
       "0    23900\n",
       "Name: Loan Status, dtype: int64"
      ]
     },
     "execution_count": 89,
     "metadata": {},
     "output_type": "execute_result"
    }
   ],
   "source": [
    "y_res.value_counts()"
   ]
  },
  {
   "cell_type": "markdown",
   "id": "cc0c360c",
   "metadata": {},
   "source": [
    "### target variables has been balanced using SMOTE"
   ]
  },
  {
   "cell_type": "markdown",
   "id": "c10f48a9",
   "metadata": {},
   "source": [
    "## Inputing MODELS"
   ]
  },
  {
   "cell_type": "code",
   "execution_count": 90,
   "id": "ef87f79b",
   "metadata": {},
   "outputs": [],
   "source": [
    "from sklearn.tree import DecisionTreeClassifier \n",
    "from sklearn.ensemble import RandomForestClassifier\n",
    "from sklearn.ensemble import AdaBoostClassifier\n",
    "from sklearn.ensemble import BaggingClassifier\n",
    "from sklearn.linear_model import LogisticRegression\n",
    "from sklearn.neighbors import KNeighborsClassifier\n",
    "from sklearn.model_selection import GridSearchCV,train_test_split \n",
    "from sklearn.metrics import roc_auc_score,f1_score,accuracy_score,classification_report"
   ]
  },
  {
   "cell_type": "markdown",
   "id": "9db5aa49",
   "metadata": {},
   "source": [
    "## Decision Tree"
   ]
  },
  {
   "cell_type": "code",
   "execution_count": 91,
   "id": "ee0acd0a",
   "metadata": {},
   "outputs": [
    {
     "data": {
      "text/plain": [
       "DecisionTreeClassifier()"
      ]
     },
     "execution_count": 91,
     "metadata": {},
     "output_type": "execute_result"
    }
   ],
   "source": [
    "# importing decision tree classifier model (baseline model - fully grown tree)\n",
    "dtc = DecisionTreeClassifier()\n",
    "dtc"
   ]
  },
  {
   "cell_type": "code",
   "execution_count": 92,
   "id": "9e252950",
   "metadata": {},
   "outputs": [],
   "source": [
    "# fit the model\n",
    "dtc.fit(X_res, y_res)\n",
    "# train the model \n",
    "y_pred = dtc.predict(X_test)"
   ]
  },
  {
   "cell_type": "code",
   "execution_count": 93,
   "id": "2715f754",
   "metadata": {},
   "outputs": [
    {
     "name": "stdout",
     "output_type": "stream",
     "text": [
      "Accuracy score:  0.6227841266984613\n",
      "Area under ROC : 0.5660151805472846\n",
      "F1-score:  0.7259414225941423\n",
      "              precision    recall  f1-score   support\n",
      "\n",
      "           0       0.36      0.44      0.40      3146\n",
      "           1       0.76      0.70      0.73      7967\n",
      "\n",
      "    accuracy                           0.62     11113\n",
      "   macro avg       0.56      0.57      0.56     11113\n",
      "weighted avg       0.65      0.62      0.63     11113\n",
      "\n"
     ]
    }
   ],
   "source": [
    "print('Accuracy score: ',accuracy_score(y_test,y_pred))\n",
    "print('Area under ROC :',roc_auc_score(y_test,y_pred))\n",
    "print('F1-score: ',f1_score(y_test,y_pred))\n",
    "print(classification_report(y_test,y_pred))"
   ]
  },
  {
   "cell_type": "markdown",
   "id": "f591da57",
   "metadata": {},
   "source": [
    "## Random Forest"
   ]
  },
  {
   "cell_type": "code",
   "execution_count": 95,
   "id": "df3243cb",
   "metadata": {},
   "outputs": [],
   "source": [
    "rfc = RandomForestClassifier()"
   ]
  },
  {
   "cell_type": "code",
   "execution_count": 96,
   "id": "98ece1c3",
   "metadata": {},
   "outputs": [],
   "source": [
    "rfc.fit(X_res, y_res)\n",
    "y_pred = rfc.predict(X_test)"
   ]
  },
  {
   "cell_type": "code",
   "execution_count": 97,
   "id": "bffe6b7d",
   "metadata": {},
   "outputs": [
    {
     "name": "stdout",
     "output_type": "stream",
     "text": [
      "Accuracy score:  0.7152884009718348\n",
      "Area under ROC : 0.612450767393885\n",
      "F1-score:  0.8105389221556887\n",
      "              precision    recall  f1-score   support\n",
      "\n",
      "           0       0.50      0.38      0.43      3146\n",
      "           1       0.77      0.85      0.81      7967\n",
      "\n",
      "    accuracy                           0.72     11113\n",
      "   macro avg       0.64      0.61      0.62     11113\n",
      "weighted avg       0.70      0.72      0.70     11113\n",
      "\n"
     ]
    }
   ],
   "source": [
    "print('Accuracy score: ',accuracy_score(y_test,y_pred))\n",
    "print('Area under ROC :',roc_auc_score(y_test,y_pred))\n",
    "print('F1-score: ',f1_score(y_test,y_pred))\n",
    "print(classification_report(y_test,y_pred))"
   ]
  },
  {
   "cell_type": "markdown",
   "id": "2d8a0da8",
   "metadata": {},
   "source": [
    "## Adaptive boosting"
   ]
  },
  {
   "cell_type": "code",
   "execution_count": 98,
   "id": "e53d4855",
   "metadata": {},
   "outputs": [],
   "source": [
    "abc = AdaBoostClassifier()"
   ]
  },
  {
   "cell_type": "code",
   "execution_count": 99,
   "id": "c04be72c",
   "metadata": {},
   "outputs": [],
   "source": [
    "abc.fit(X_res, y_res)\n",
    "y_pred = abc.predict(X_test)"
   ]
  },
  {
   "cell_type": "code",
   "execution_count": 100,
   "id": "8ebf0d8e",
   "metadata": {},
   "outputs": [
    {
     "name": "stdout",
     "output_type": "stream",
     "text": [
      "Accuracy score:  0.6902726536488797\n",
      "Area under ROC : 0.620008803798185\n",
      "F1-score:  0.7835492390894228\n",
      "              precision    recall  f1-score   support\n",
      "\n",
      "           0       0.45      0.46      0.46      3146\n",
      "           1       0.79      0.78      0.78      7967\n",
      "\n",
      "    accuracy                           0.69     11113\n",
      "   macro avg       0.62      0.62      0.62     11113\n",
      "weighted avg       0.69      0.69      0.69     11113\n",
      "\n"
     ]
    }
   ],
   "source": [
    "print('Accuracy score: ',accuracy_score(y_test,y_pred))\n",
    "print('Area under ROC :',roc_auc_score(y_test,y_pred))\n",
    "print('F1-score: ',f1_score(y_test,y_pred))\n",
    "print(classification_report(y_test,y_pred))"
   ]
  },
  {
   "cell_type": "markdown",
   "id": "3dd51503",
   "metadata": {},
   "source": [
    "## Bagging"
   ]
  },
  {
   "cell_type": "code",
   "execution_count": 104,
   "id": "43a2d4ea",
   "metadata": {},
   "outputs": [],
   "source": [
    "bag = BaggingClassifier()"
   ]
  },
  {
   "cell_type": "code",
   "execution_count": 105,
   "id": "48e1e8aa",
   "metadata": {},
   "outputs": [],
   "source": [
    "bag.fit(X_res, y_res)\n",
    "y_pred = bag.predict(X_test)"
   ]
  },
  {
   "cell_type": "code",
   "execution_count": 106,
   "id": "96103f22",
   "metadata": {},
   "outputs": [
    {
     "name": "stdout",
     "output_type": "stream",
     "text": [
      "Accuracy score:  0.6621074417349051\n",
      "Area under ROC : 0.6057509676557568\n",
      "F1-score:  0.7573819215610261\n",
      "              precision    recall  f1-score   support\n",
      "\n",
      "           0       0.42      0.48      0.44      3146\n",
      "           1       0.78      0.74      0.76      7967\n",
      "\n",
      "    accuracy                           0.66     11113\n",
      "   macro avg       0.60      0.61      0.60     11113\n",
      "weighted avg       0.68      0.66      0.67     11113\n",
      "\n"
     ]
    }
   ],
   "source": [
    "print('Accuracy score: ',accuracy_score(y_test,y_pred))\n",
    "print('Area under ROC :',roc_auc_score(y_test,y_pred))\n",
    "print('F1-score: ',f1_score(y_test,y_pred))\n",
    "print(classification_report(y_test,y_pred))"
   ]
  },
  {
   "cell_type": "markdown",
   "id": "9f49cd8f",
   "metadata": {},
   "source": [
    "## KNN"
   ]
  },
  {
   "cell_type": "code",
   "execution_count": 107,
   "id": "686cd71d",
   "metadata": {},
   "outputs": [],
   "source": [
    "knn = KNeighborsClassifier()"
   ]
  },
  {
   "cell_type": "code",
   "execution_count": 108,
   "id": "76bebdf7",
   "metadata": {},
   "outputs": [],
   "source": [
    "knn.fit(X_res, y_res)\n",
    "y_pred = knn.predict(X_test)"
   ]
  },
  {
   "cell_type": "code",
   "execution_count": 109,
   "id": "46941d2a",
   "metadata": {},
   "outputs": [
    {
     "name": "stdout",
     "output_type": "stream",
     "text": [
      "Accuracy score:  0.5701430756771348\n",
      "Area under ROC : 0.551517220869207\n",
      "F1-score:  0.6647484033967297\n",
      "              precision    recall  f1-score   support\n",
      "\n",
      "           0       0.33      0.51      0.40      3146\n",
      "           1       0.75      0.59      0.66      7967\n",
      "\n",
      "    accuracy                           0.57     11113\n",
      "   macro avg       0.54      0.55      0.53     11113\n",
      "weighted avg       0.63      0.57      0.59     11113\n",
      "\n"
     ]
    }
   ],
   "source": [
    "print('Accuracy score: ',accuracy_score(y_test,y_pred))\n",
    "print('Area under ROC :',roc_auc_score(y_test,y_pred))\n",
    "print('F1-score: ',f1_score(y_test,y_pred))\n",
    "print(classification_report(y_test,y_pred))"
   ]
  },
  {
   "cell_type": "markdown",
   "id": "dace7eaa",
   "metadata": {},
   "source": [
    "## logistic"
   ]
  },
  {
   "cell_type": "code",
   "execution_count": 110,
   "id": "c0b0a12f",
   "metadata": {},
   "outputs": [],
   "source": [
    "lg = LogisticRegression(solver='newton-cg', class_weight='balanced')"
   ]
  },
  {
   "cell_type": "code",
   "execution_count": 111,
   "id": "bea6e429",
   "metadata": {},
   "outputs": [],
   "source": [
    "lg.fit(X_res, y_res)\n",
    "y_pred = lg.predict(X_test)"
   ]
  },
  {
   "cell_type": "code",
   "execution_count": 112,
   "id": "a9cc37d5",
   "metadata": {},
   "outputs": [
    {
     "name": "stdout",
     "output_type": "stream",
     "text": [
      "Accuracy score:  0.7145685233510303\n",
      "Area under ROC : 0.5812694784932537\n",
      "F1-score:  0.8169648009232545\n",
      "              precision    recall  f1-score   support\n",
      "\n",
      "           0       0.49      0.27      0.35      3146\n",
      "           1       0.76      0.89      0.82      7967\n",
      "\n",
      "    accuracy                           0.71     11113\n",
      "   macro avg       0.62      0.58      0.58     11113\n",
      "weighted avg       0.68      0.71      0.69     11113\n",
      "\n"
     ]
    }
   ],
   "source": [
    "print('Accuracy score: ',accuracy_score(y_test,y_pred))\n",
    "print('Area under ROC :',roc_auc_score(y_test,y_pred))\n",
    "print('F1-score: ',f1_score(y_test,y_pred))\n",
    "print(classification_report(y_test,y_pred))"
   ]
  },
  {
   "cell_type": "markdown",
   "id": "2a534763",
   "metadata": {},
   "source": [
    "## COMMENT"
   ]
  },
  {
   "cell_type": "markdown",
   "id": "b14d8e7c",
   "metadata": {},
   "source": [
    "### used model such as Knn classifier,decision tree classifier,random forest classifier ,Adaptive boosting,Logistic regression \n",
    "\n",
    "### among all the model \n",
    "### ADAPTIVE BOOSTING is getting higher Area under ROC score : 0.62"
   ]
  },
  {
   "cell_type": "code",
   "execution_count": null,
   "id": "f1cf25ae",
   "metadata": {},
   "outputs": [],
   "source": []
  }
 ],
 "metadata": {
  "kernelspec": {
   "display_name": "Python 3 (ipykernel)",
   "language": "python",
   "name": "python3"
  },
  "language_info": {
   "codemirror_mode": {
    "name": "ipython",
    "version": 3
   },
   "file_extension": ".py",
   "mimetype": "text/x-python",
   "name": "python",
   "nbconvert_exporter": "python",
   "pygments_lexer": "ipython3",
   "version": "3.9.13"
  }
 },
 "nbformat": 4,
 "nbformat_minor": 5
}
